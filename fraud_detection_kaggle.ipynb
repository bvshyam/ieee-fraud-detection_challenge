{
 "cells": [
  {
   "cell_type": "code",
   "execution_count": 1,
   "metadata": {},
   "outputs": [
    {
     "name": "stderr",
     "output_type": "stream",
     "text": [
      "C:\\ProgramData\\Anaconda3\\lib\\site-packages\\sklearn\\ensemble\\weight_boosting.py:29: DeprecationWarning: numpy.core.umath_tests is an internal NumPy module and should not be imported. It will be removed in a future NumPy release.\n",
      "  from numpy.core.umath_tests import inner1d\n",
      "Using TensorFlow backend.\n"
     ]
    }
   ],
   "source": [
    "import numpy as np\n",
    "import matplotlib.pyplot as plt\n",
    "%matplotlib inline\n",
    "import seaborn as sns\n",
    "\n",
    "import numpy as np\n",
    "import pandas as pd\n",
    "import os\n",
    "from sklearn.externals import joblib\n",
    "\n",
    "import jsonify\n",
    "from pandas.io.json import json_normalize\n",
    "\n",
    "\n",
    "import matplotlib.pyplot as plt\n",
    "%matplotlib inline\n",
    "from tqdm import tqdm_notebook\n",
    "from sklearn.preprocessing import StandardScaler\n",
    "from sklearn.svm import NuSVR, SVR\n",
    "from sklearn.metrics import mean_absolute_error\n",
    "pd.options.display.precision = 15\n",
    "\n",
    "import lightgbm as lgb\n",
    "import xgboost as xgb\n",
    "import time\n",
    "from xgboost import XGBClassifier\n",
    "\n",
    "import datetime\n",
    "from sklearn.preprocessing import LabelEncoder\n",
    "from sklearn.model_selection import StratifiedKFold, KFold, RepeatedKFold, GroupKFold, GridSearchCV, train_test_split, TimeSeriesSplit\n",
    "from sklearn import metrics\n",
    "from sklearn import linear_model\n",
    "from sklearn.ensemble import GradientBoostingClassifier\n",
    "import gc\n",
    "import seaborn as sns\n",
    "import warnings\n",
    "warnings.filterwarnings(\"ignore\")\n",
    "\n",
    "import eli5\n",
    "from IPython.display import HTML\n",
    "import json\n",
    "\n",
    "import networkx as nx\n",
    "import matplotlib.pyplot as plt\n",
    "%matplotlib inline\n"
   ]
  },
  {
   "cell_type": "code",
   "execution_count": 2,
   "metadata": {},
   "outputs": [
    {
     "data": {
      "text/html": [
       "<div>\n",
       "<style scoped>\n",
       "    .dataframe tbody tr th:only-of-type {\n",
       "        vertical-align: middle;\n",
       "    }\n",
       "\n",
       "    .dataframe tbody tr th {\n",
       "        vertical-align: top;\n",
       "    }\n",
       "\n",
       "    .dataframe thead th {\n",
       "        text-align: right;\n",
       "    }\n",
       "</style>\n",
       "<table border=\"1\" class=\"dataframe\">\n",
       "  <thead>\n",
       "    <tr style=\"text-align: right;\">\n",
       "      <th></th>\n",
       "      <th>TransactionID</th>\n",
       "      <th>isFraud</th>\n",
       "      <th>TransactionDT</th>\n",
       "      <th>TransactionAmt</th>\n",
       "      <th>ProductCD</th>\n",
       "      <th>card1</th>\n",
       "      <th>card2</th>\n",
       "      <th>card3</th>\n",
       "      <th>card4</th>\n",
       "      <th>card5</th>\n",
       "      <th>...</th>\n",
       "      <th>id_31</th>\n",
       "      <th>id_32</th>\n",
       "      <th>id_33</th>\n",
       "      <th>id_34</th>\n",
       "      <th>id_35</th>\n",
       "      <th>id_36</th>\n",
       "      <th>id_37</th>\n",
       "      <th>id_38</th>\n",
       "      <th>DeviceType</th>\n",
       "      <th>DeviceInfo</th>\n",
       "    </tr>\n",
       "  </thead>\n",
       "  <tbody>\n",
       "    <tr>\n",
       "      <td>0</td>\n",
       "      <td>2987000</td>\n",
       "      <td>0</td>\n",
       "      <td>86400</td>\n",
       "      <td>68.5</td>\n",
       "      <td>W</td>\n",
       "      <td>13926</td>\n",
       "      <td>NaN</td>\n",
       "      <td>150.0</td>\n",
       "      <td>discover</td>\n",
       "      <td>142.0</td>\n",
       "      <td>...</td>\n",
       "      <td>NaN</td>\n",
       "      <td>NaN</td>\n",
       "      <td>NaN</td>\n",
       "      <td>NaN</td>\n",
       "      <td>NaN</td>\n",
       "      <td>NaN</td>\n",
       "      <td>NaN</td>\n",
       "      <td>NaN</td>\n",
       "      <td>NaN</td>\n",
       "      <td>NaN</td>\n",
       "    </tr>\n",
       "    <tr>\n",
       "      <td>1</td>\n",
       "      <td>2987001</td>\n",
       "      <td>0</td>\n",
       "      <td>86401</td>\n",
       "      <td>29.0</td>\n",
       "      <td>W</td>\n",
       "      <td>2755</td>\n",
       "      <td>404.0</td>\n",
       "      <td>150.0</td>\n",
       "      <td>mastercard</td>\n",
       "      <td>102.0</td>\n",
       "      <td>...</td>\n",
       "      <td>NaN</td>\n",
       "      <td>NaN</td>\n",
       "      <td>NaN</td>\n",
       "      <td>NaN</td>\n",
       "      <td>NaN</td>\n",
       "      <td>NaN</td>\n",
       "      <td>NaN</td>\n",
       "      <td>NaN</td>\n",
       "      <td>NaN</td>\n",
       "      <td>NaN</td>\n",
       "    </tr>\n",
       "    <tr>\n",
       "      <td>2</td>\n",
       "      <td>2987002</td>\n",
       "      <td>0</td>\n",
       "      <td>86469</td>\n",
       "      <td>59.0</td>\n",
       "      <td>W</td>\n",
       "      <td>4663</td>\n",
       "      <td>490.0</td>\n",
       "      <td>150.0</td>\n",
       "      <td>visa</td>\n",
       "      <td>166.0</td>\n",
       "      <td>...</td>\n",
       "      <td>NaN</td>\n",
       "      <td>NaN</td>\n",
       "      <td>NaN</td>\n",
       "      <td>NaN</td>\n",
       "      <td>NaN</td>\n",
       "      <td>NaN</td>\n",
       "      <td>NaN</td>\n",
       "      <td>NaN</td>\n",
       "      <td>NaN</td>\n",
       "      <td>NaN</td>\n",
       "    </tr>\n",
       "    <tr>\n",
       "      <td>3</td>\n",
       "      <td>2987003</td>\n",
       "      <td>0</td>\n",
       "      <td>86499</td>\n",
       "      <td>50.0</td>\n",
       "      <td>W</td>\n",
       "      <td>18132</td>\n",
       "      <td>567.0</td>\n",
       "      <td>150.0</td>\n",
       "      <td>mastercard</td>\n",
       "      <td>117.0</td>\n",
       "      <td>...</td>\n",
       "      <td>NaN</td>\n",
       "      <td>NaN</td>\n",
       "      <td>NaN</td>\n",
       "      <td>NaN</td>\n",
       "      <td>NaN</td>\n",
       "      <td>NaN</td>\n",
       "      <td>NaN</td>\n",
       "      <td>NaN</td>\n",
       "      <td>NaN</td>\n",
       "      <td>NaN</td>\n",
       "    </tr>\n",
       "    <tr>\n",
       "      <td>4</td>\n",
       "      <td>2987004</td>\n",
       "      <td>0</td>\n",
       "      <td>86506</td>\n",
       "      <td>50.0</td>\n",
       "      <td>H</td>\n",
       "      <td>4497</td>\n",
       "      <td>514.0</td>\n",
       "      <td>150.0</td>\n",
       "      <td>mastercard</td>\n",
       "      <td>102.0</td>\n",
       "      <td>...</td>\n",
       "      <td>samsung browser 6.2</td>\n",
       "      <td>32.0</td>\n",
       "      <td>2220x1080</td>\n",
       "      <td>match_status:2</td>\n",
       "      <td>T</td>\n",
       "      <td>F</td>\n",
       "      <td>T</td>\n",
       "      <td>T</td>\n",
       "      <td>mobile</td>\n",
       "      <td>SAMSUNG SM-G892A Build/NRD90M</td>\n",
       "    </tr>\n",
       "  </tbody>\n",
       "</table>\n",
       "<p>5 rows × 434 columns</p>\n",
       "</div>"
      ],
      "text/plain": [
       "   TransactionID  isFraud  TransactionDT  TransactionAmt ProductCD  card1  \\\n",
       "0        2987000        0          86400            68.5         W  13926   \n",
       "1        2987001        0          86401            29.0         W   2755   \n",
       "2        2987002        0          86469            59.0         W   4663   \n",
       "3        2987003        0          86499            50.0         W  18132   \n",
       "4        2987004        0          86506            50.0         H   4497   \n",
       "\n",
       "   card2  card3       card4  card5  ...                id_31  id_32  \\\n",
       "0    NaN  150.0    discover  142.0  ...                  NaN    NaN   \n",
       "1  404.0  150.0  mastercard  102.0  ...                  NaN    NaN   \n",
       "2  490.0  150.0        visa  166.0  ...                  NaN    NaN   \n",
       "3  567.0  150.0  mastercard  117.0  ...                  NaN    NaN   \n",
       "4  514.0  150.0  mastercard  102.0  ...  samsung browser 6.2   32.0   \n",
       "\n",
       "       id_33           id_34  id_35 id_36 id_37  id_38  DeviceType  \\\n",
       "0        NaN             NaN    NaN   NaN   NaN    NaN         NaN   \n",
       "1        NaN             NaN    NaN   NaN   NaN    NaN         NaN   \n",
       "2        NaN             NaN    NaN   NaN   NaN    NaN         NaN   \n",
       "3        NaN             NaN    NaN   NaN   NaN    NaN         NaN   \n",
       "4  2220x1080  match_status:2      T     F     T      T      mobile   \n",
       "\n",
       "                      DeviceInfo  \n",
       "0                            NaN  \n",
       "1                            NaN  \n",
       "2                            NaN  \n",
       "3                            NaN  \n",
       "4  SAMSUNG SM-G892A Build/NRD90M  \n",
       "\n",
       "[5 rows x 434 columns]"
      ]
     },
     "execution_count": 2,
     "metadata": {},
     "output_type": "execute_result"
    }
   ],
   "source": [
    "transaction_train_df = pd.read_csv('./data/train_transaction.csv')\n",
    "identity_train_df = pd.read_csv('./data/train_identity.csv')\n",
    "\n",
    "train = pd.merge(transaction_train_df,identity_train_df,how='left',\n",
    "         on='TransactionID')\n",
    "\n",
    "\n",
    "del transaction_train_df, identity_train_df\n",
    "train.head()"
   ]
  },
  {
   "cell_type": "code",
   "execution_count": 3,
   "metadata": {},
   "outputs": [
    {
     "data": {
      "text/html": [
       "<div>\n",
       "<style scoped>\n",
       "    .dataframe tbody tr th:only-of-type {\n",
       "        vertical-align: middle;\n",
       "    }\n",
       "\n",
       "    .dataframe tbody tr th {\n",
       "        vertical-align: top;\n",
       "    }\n",
       "\n",
       "    .dataframe thead th {\n",
       "        text-align: right;\n",
       "    }\n",
       "</style>\n",
       "<table border=\"1\" class=\"dataframe\">\n",
       "  <thead>\n",
       "    <tr style=\"text-align: right;\">\n",
       "      <th></th>\n",
       "      <th>TransactionID</th>\n",
       "      <th>TransactionDT</th>\n",
       "      <th>TransactionAmt</th>\n",
       "      <th>ProductCD</th>\n",
       "      <th>card1</th>\n",
       "      <th>card2</th>\n",
       "      <th>card3</th>\n",
       "      <th>card4</th>\n",
       "      <th>card5</th>\n",
       "      <th>card6</th>\n",
       "      <th>...</th>\n",
       "      <th>id_31</th>\n",
       "      <th>id_32</th>\n",
       "      <th>id_33</th>\n",
       "      <th>id_34</th>\n",
       "      <th>id_35</th>\n",
       "      <th>id_36</th>\n",
       "      <th>id_37</th>\n",
       "      <th>id_38</th>\n",
       "      <th>DeviceType</th>\n",
       "      <th>DeviceInfo</th>\n",
       "    </tr>\n",
       "  </thead>\n",
       "  <tbody>\n",
       "    <tr>\n",
       "      <td>0</td>\n",
       "      <td>3663549</td>\n",
       "      <td>18403224</td>\n",
       "      <td>31.949999999999999</td>\n",
       "      <td>W</td>\n",
       "      <td>10409</td>\n",
       "      <td>111.0</td>\n",
       "      <td>150.0</td>\n",
       "      <td>visa</td>\n",
       "      <td>226.0</td>\n",
       "      <td>debit</td>\n",
       "      <td>...</td>\n",
       "      <td>NaN</td>\n",
       "      <td>NaN</td>\n",
       "      <td>NaN</td>\n",
       "      <td>NaN</td>\n",
       "      <td>NaN</td>\n",
       "      <td>NaN</td>\n",
       "      <td>NaN</td>\n",
       "      <td>NaN</td>\n",
       "      <td>NaN</td>\n",
       "      <td>NaN</td>\n",
       "    </tr>\n",
       "    <tr>\n",
       "      <td>1</td>\n",
       "      <td>3663550</td>\n",
       "      <td>18403263</td>\n",
       "      <td>49.000000000000000</td>\n",
       "      <td>W</td>\n",
       "      <td>4272</td>\n",
       "      <td>111.0</td>\n",
       "      <td>150.0</td>\n",
       "      <td>visa</td>\n",
       "      <td>226.0</td>\n",
       "      <td>debit</td>\n",
       "      <td>...</td>\n",
       "      <td>NaN</td>\n",
       "      <td>NaN</td>\n",
       "      <td>NaN</td>\n",
       "      <td>NaN</td>\n",
       "      <td>NaN</td>\n",
       "      <td>NaN</td>\n",
       "      <td>NaN</td>\n",
       "      <td>NaN</td>\n",
       "      <td>NaN</td>\n",
       "      <td>NaN</td>\n",
       "    </tr>\n",
       "    <tr>\n",
       "      <td>2</td>\n",
       "      <td>3663551</td>\n",
       "      <td>18403310</td>\n",
       "      <td>171.000000000000000</td>\n",
       "      <td>W</td>\n",
       "      <td>4476</td>\n",
       "      <td>574.0</td>\n",
       "      <td>150.0</td>\n",
       "      <td>visa</td>\n",
       "      <td>226.0</td>\n",
       "      <td>debit</td>\n",
       "      <td>...</td>\n",
       "      <td>NaN</td>\n",
       "      <td>NaN</td>\n",
       "      <td>NaN</td>\n",
       "      <td>NaN</td>\n",
       "      <td>NaN</td>\n",
       "      <td>NaN</td>\n",
       "      <td>NaN</td>\n",
       "      <td>NaN</td>\n",
       "      <td>NaN</td>\n",
       "      <td>NaN</td>\n",
       "    </tr>\n",
       "    <tr>\n",
       "      <td>3</td>\n",
       "      <td>3663552</td>\n",
       "      <td>18403310</td>\n",
       "      <td>284.949999999999989</td>\n",
       "      <td>W</td>\n",
       "      <td>10989</td>\n",
       "      <td>360.0</td>\n",
       "      <td>150.0</td>\n",
       "      <td>visa</td>\n",
       "      <td>166.0</td>\n",
       "      <td>debit</td>\n",
       "      <td>...</td>\n",
       "      <td>NaN</td>\n",
       "      <td>NaN</td>\n",
       "      <td>NaN</td>\n",
       "      <td>NaN</td>\n",
       "      <td>NaN</td>\n",
       "      <td>NaN</td>\n",
       "      <td>NaN</td>\n",
       "      <td>NaN</td>\n",
       "      <td>NaN</td>\n",
       "      <td>NaN</td>\n",
       "    </tr>\n",
       "    <tr>\n",
       "      <td>4</td>\n",
       "      <td>3663553</td>\n",
       "      <td>18403317</td>\n",
       "      <td>67.950000000000003</td>\n",
       "      <td>W</td>\n",
       "      <td>18018</td>\n",
       "      <td>452.0</td>\n",
       "      <td>150.0</td>\n",
       "      <td>mastercard</td>\n",
       "      <td>117.0</td>\n",
       "      <td>debit</td>\n",
       "      <td>...</td>\n",
       "      <td>NaN</td>\n",
       "      <td>NaN</td>\n",
       "      <td>NaN</td>\n",
       "      <td>NaN</td>\n",
       "      <td>NaN</td>\n",
       "      <td>NaN</td>\n",
       "      <td>NaN</td>\n",
       "      <td>NaN</td>\n",
       "      <td>NaN</td>\n",
       "      <td>NaN</td>\n",
       "    </tr>\n",
       "  </tbody>\n",
       "</table>\n",
       "<p>5 rows × 433 columns</p>\n",
       "</div>"
      ],
      "text/plain": [
       "   TransactionID  TransactionDT       TransactionAmt ProductCD  card1  card2  \\\n",
       "0        3663549       18403224   31.949999999999999         W  10409  111.0   \n",
       "1        3663550       18403263   49.000000000000000         W   4272  111.0   \n",
       "2        3663551       18403310  171.000000000000000         W   4476  574.0   \n",
       "3        3663552       18403310  284.949999999999989         W  10989  360.0   \n",
       "4        3663553       18403317   67.950000000000003         W  18018  452.0   \n",
       "\n",
       "   card3       card4  card5  card6  ...  id_31  id_32  id_33  id_34 id_35  \\\n",
       "0  150.0        visa  226.0  debit  ...    NaN    NaN    NaN    NaN   NaN   \n",
       "1  150.0        visa  226.0  debit  ...    NaN    NaN    NaN    NaN   NaN   \n",
       "2  150.0        visa  226.0  debit  ...    NaN    NaN    NaN    NaN   NaN   \n",
       "3  150.0        visa  166.0  debit  ...    NaN    NaN    NaN    NaN   NaN   \n",
       "4  150.0  mastercard  117.0  debit  ...    NaN    NaN    NaN    NaN   NaN   \n",
       "\n",
       "  id_36  id_37  id_38  DeviceType  DeviceInfo  \n",
       "0   NaN    NaN    NaN         NaN         NaN  \n",
       "1   NaN    NaN    NaN         NaN         NaN  \n",
       "2   NaN    NaN    NaN         NaN         NaN  \n",
       "3   NaN    NaN    NaN         NaN         NaN  \n",
       "4   NaN    NaN    NaN         NaN         NaN  \n",
       "\n",
       "[5 rows x 433 columns]"
      ]
     },
     "execution_count": 3,
     "metadata": {},
     "output_type": "execute_result"
    }
   ],
   "source": [
    "transaction_test_df = pd.read_csv('./data/test_transaction.csv')\n",
    "identity_test_df = pd.read_csv('./data/test_identity.csv')\n",
    "\n",
    "test = pd.merge(transaction_test_df,identity_test_df,how='left',\n",
    "         on='TransactionID')\n",
    "\n",
    "\n",
    "del transaction_test_df, identity_test_df\n",
    "test.head()"
   ]
  },
  {
   "cell_type": "code",
   "execution_count": 4,
   "metadata": {},
   "outputs": [
    {
     "data": {
      "text/html": [
       "<div>\n",
       "<style scoped>\n",
       "    .dataframe tbody tr th:only-of-type {\n",
       "        vertical-align: middle;\n",
       "    }\n",
       "\n",
       "    .dataframe tbody tr th {\n",
       "        vertical-align: top;\n",
       "    }\n",
       "\n",
       "    .dataframe thead th {\n",
       "        text-align: right;\n",
       "    }\n",
       "</style>\n",
       "<table border=\"1\" class=\"dataframe\">\n",
       "  <thead>\n",
       "    <tr style=\"text-align: right;\">\n",
       "      <th></th>\n",
       "      <th>TransactionID</th>\n",
       "      <th>isFraud</th>\n",
       "      <th>TransactionDT</th>\n",
       "      <th>TransactionAmt</th>\n",
       "      <th>ProductCD</th>\n",
       "      <th>card1</th>\n",
       "      <th>card2</th>\n",
       "      <th>card3</th>\n",
       "      <th>card4</th>\n",
       "      <th>card5</th>\n",
       "      <th>...</th>\n",
       "      <th>id_31</th>\n",
       "      <th>id_32</th>\n",
       "      <th>id_33</th>\n",
       "      <th>id_34</th>\n",
       "      <th>id_35</th>\n",
       "      <th>id_36</th>\n",
       "      <th>id_37</th>\n",
       "      <th>id_38</th>\n",
       "      <th>DeviceType</th>\n",
       "      <th>DeviceInfo</th>\n",
       "    </tr>\n",
       "  </thead>\n",
       "  <tbody>\n",
       "    <tr>\n",
       "      <td>0</td>\n",
       "      <td>2987000</td>\n",
       "      <td>0</td>\n",
       "      <td>86400</td>\n",
       "      <td>68.5</td>\n",
       "      <td>W</td>\n",
       "      <td>13926</td>\n",
       "      <td>NaN</td>\n",
       "      <td>150.0</td>\n",
       "      <td>discover</td>\n",
       "      <td>142.0</td>\n",
       "      <td>...</td>\n",
       "      <td>NaN</td>\n",
       "      <td>NaN</td>\n",
       "      <td>NaN</td>\n",
       "      <td>NaN</td>\n",
       "      <td>NaN</td>\n",
       "      <td>NaN</td>\n",
       "      <td>NaN</td>\n",
       "      <td>NaN</td>\n",
       "      <td>NaN</td>\n",
       "      <td>NaN</td>\n",
       "    </tr>\n",
       "    <tr>\n",
       "      <td>1</td>\n",
       "      <td>2987001</td>\n",
       "      <td>0</td>\n",
       "      <td>86401</td>\n",
       "      <td>29.0</td>\n",
       "      <td>W</td>\n",
       "      <td>2755</td>\n",
       "      <td>404.0</td>\n",
       "      <td>150.0</td>\n",
       "      <td>mastercard</td>\n",
       "      <td>102.0</td>\n",
       "      <td>...</td>\n",
       "      <td>NaN</td>\n",
       "      <td>NaN</td>\n",
       "      <td>NaN</td>\n",
       "      <td>NaN</td>\n",
       "      <td>NaN</td>\n",
       "      <td>NaN</td>\n",
       "      <td>NaN</td>\n",
       "      <td>NaN</td>\n",
       "      <td>NaN</td>\n",
       "      <td>NaN</td>\n",
       "    </tr>\n",
       "    <tr>\n",
       "      <td>2</td>\n",
       "      <td>2987002</td>\n",
       "      <td>0</td>\n",
       "      <td>86469</td>\n",
       "      <td>59.0</td>\n",
       "      <td>W</td>\n",
       "      <td>4663</td>\n",
       "      <td>490.0</td>\n",
       "      <td>150.0</td>\n",
       "      <td>visa</td>\n",
       "      <td>166.0</td>\n",
       "      <td>...</td>\n",
       "      <td>NaN</td>\n",
       "      <td>NaN</td>\n",
       "      <td>NaN</td>\n",
       "      <td>NaN</td>\n",
       "      <td>NaN</td>\n",
       "      <td>NaN</td>\n",
       "      <td>NaN</td>\n",
       "      <td>NaN</td>\n",
       "      <td>NaN</td>\n",
       "      <td>NaN</td>\n",
       "    </tr>\n",
       "    <tr>\n",
       "      <td>3</td>\n",
       "      <td>2987003</td>\n",
       "      <td>0</td>\n",
       "      <td>86499</td>\n",
       "      <td>50.0</td>\n",
       "      <td>W</td>\n",
       "      <td>18132</td>\n",
       "      <td>567.0</td>\n",
       "      <td>150.0</td>\n",
       "      <td>mastercard</td>\n",
       "      <td>117.0</td>\n",
       "      <td>...</td>\n",
       "      <td>NaN</td>\n",
       "      <td>NaN</td>\n",
       "      <td>NaN</td>\n",
       "      <td>NaN</td>\n",
       "      <td>NaN</td>\n",
       "      <td>NaN</td>\n",
       "      <td>NaN</td>\n",
       "      <td>NaN</td>\n",
       "      <td>NaN</td>\n",
       "      <td>NaN</td>\n",
       "    </tr>\n",
       "    <tr>\n",
       "      <td>4</td>\n",
       "      <td>2987004</td>\n",
       "      <td>0</td>\n",
       "      <td>86506</td>\n",
       "      <td>50.0</td>\n",
       "      <td>H</td>\n",
       "      <td>4497</td>\n",
       "      <td>514.0</td>\n",
       "      <td>150.0</td>\n",
       "      <td>mastercard</td>\n",
       "      <td>102.0</td>\n",
       "      <td>...</td>\n",
       "      <td>samsung browser 6.2</td>\n",
       "      <td>32.0</td>\n",
       "      <td>2220x1080</td>\n",
       "      <td>match_status:2</td>\n",
       "      <td>T</td>\n",
       "      <td>F</td>\n",
       "      <td>T</td>\n",
       "      <td>T</td>\n",
       "      <td>mobile</td>\n",
       "      <td>SAMSUNG SM-G892A Build/NRD90M</td>\n",
       "    </tr>\n",
       "  </tbody>\n",
       "</table>\n",
       "<p>5 rows × 434 columns</p>\n",
       "</div>"
      ],
      "text/plain": [
       "   TransactionID  isFraud  TransactionDT  TransactionAmt ProductCD  card1  \\\n",
       "0        2987000        0          86400            68.5         W  13926   \n",
       "1        2987001        0          86401            29.0         W   2755   \n",
       "2        2987002        0          86469            59.0         W   4663   \n",
       "3        2987003        0          86499            50.0         W  18132   \n",
       "4        2987004        0          86506            50.0         H   4497   \n",
       "\n",
       "   card2  card3       card4  card5  ...                id_31  id_32  \\\n",
       "0    NaN  150.0    discover  142.0  ...                  NaN    NaN   \n",
       "1  404.0  150.0  mastercard  102.0  ...                  NaN    NaN   \n",
       "2  490.0  150.0        visa  166.0  ...                  NaN    NaN   \n",
       "3  567.0  150.0  mastercard  117.0  ...                  NaN    NaN   \n",
       "4  514.0  150.0  mastercard  102.0  ...  samsung browser 6.2   32.0   \n",
       "\n",
       "       id_33           id_34  id_35 id_36 id_37  id_38  DeviceType  \\\n",
       "0        NaN             NaN    NaN   NaN   NaN    NaN         NaN   \n",
       "1        NaN             NaN    NaN   NaN   NaN    NaN         NaN   \n",
       "2        NaN             NaN    NaN   NaN   NaN    NaN         NaN   \n",
       "3        NaN             NaN    NaN   NaN   NaN    NaN         NaN   \n",
       "4  2220x1080  match_status:2      T     F     T      T      mobile   \n",
       "\n",
       "                      DeviceInfo  \n",
       "0                            NaN  \n",
       "1                            NaN  \n",
       "2                            NaN  \n",
       "3                            NaN  \n",
       "4  SAMSUNG SM-G892A Build/NRD90M  \n",
       "\n",
       "[5 rows x 434 columns]"
      ]
     },
     "execution_count": 4,
     "metadata": {},
     "output_type": "execute_result"
    }
   ],
   "source": [
    "train.head()\n"
   ]
  },
  {
   "cell_type": "code",
   "execution_count": 5,
   "metadata": {
    "scrolled": false
   },
   "outputs": [
    {
     "data": {
      "text/html": [
       "<div>\n",
       "<style scoped>\n",
       "    .dataframe tbody tr th:only-of-type {\n",
       "        vertical-align: middle;\n",
       "    }\n",
       "\n",
       "    .dataframe tbody tr th {\n",
       "        vertical-align: top;\n",
       "    }\n",
       "\n",
       "    .dataframe thead th {\n",
       "        text-align: right;\n",
       "    }\n",
       "</style>\n",
       "<table border=\"1\" class=\"dataframe\">\n",
       "  <thead>\n",
       "    <tr style=\"text-align: right;\">\n",
       "      <th></th>\n",
       "      <th>TransactionID</th>\n",
       "      <th>isFraud</th>\n",
       "      <th>TransactionDT</th>\n",
       "      <th>TransactionAmt</th>\n",
       "      <th>ProductCD</th>\n",
       "      <th>card1</th>\n",
       "      <th>card2</th>\n",
       "      <th>card3</th>\n",
       "      <th>card4</th>\n",
       "      <th>card5</th>\n",
       "      <th>...</th>\n",
       "      <th>id_31</th>\n",
       "      <th>id_32</th>\n",
       "      <th>id_33</th>\n",
       "      <th>id_34</th>\n",
       "      <th>id_35</th>\n",
       "      <th>id_36</th>\n",
       "      <th>id_37</th>\n",
       "      <th>id_38</th>\n",
       "      <th>DeviceType</th>\n",
       "      <th>DeviceInfo</th>\n",
       "    </tr>\n",
       "  </thead>\n",
       "  <tbody>\n",
       "    <tr>\n",
       "      <td>0</td>\n",
       "      <td>2987000</td>\n",
       "      <td>0</td>\n",
       "      <td>86400</td>\n",
       "      <td>68.5</td>\n",
       "      <td>W</td>\n",
       "      <td>13926</td>\n",
       "      <td>NaN</td>\n",
       "      <td>150.0</td>\n",
       "      <td>discover</td>\n",
       "      <td>142.0</td>\n",
       "      <td>...</td>\n",
       "      <td>NaN</td>\n",
       "      <td>NaN</td>\n",
       "      <td>NaN</td>\n",
       "      <td>NaN</td>\n",
       "      <td>NaN</td>\n",
       "      <td>NaN</td>\n",
       "      <td>NaN</td>\n",
       "      <td>NaN</td>\n",
       "      <td>NaN</td>\n",
       "      <td>NaN</td>\n",
       "    </tr>\n",
       "    <tr>\n",
       "      <td>1</td>\n",
       "      <td>2987001</td>\n",
       "      <td>0</td>\n",
       "      <td>86401</td>\n",
       "      <td>29.0</td>\n",
       "      <td>W</td>\n",
       "      <td>2755</td>\n",
       "      <td>404.0</td>\n",
       "      <td>150.0</td>\n",
       "      <td>mastercard</td>\n",
       "      <td>102.0</td>\n",
       "      <td>...</td>\n",
       "      <td>NaN</td>\n",
       "      <td>NaN</td>\n",
       "      <td>NaN</td>\n",
       "      <td>NaN</td>\n",
       "      <td>NaN</td>\n",
       "      <td>NaN</td>\n",
       "      <td>NaN</td>\n",
       "      <td>NaN</td>\n",
       "      <td>NaN</td>\n",
       "      <td>NaN</td>\n",
       "    </tr>\n",
       "    <tr>\n",
       "      <td>2</td>\n",
       "      <td>2987002</td>\n",
       "      <td>0</td>\n",
       "      <td>86469</td>\n",
       "      <td>59.0</td>\n",
       "      <td>W</td>\n",
       "      <td>4663</td>\n",
       "      <td>490.0</td>\n",
       "      <td>150.0</td>\n",
       "      <td>visa</td>\n",
       "      <td>166.0</td>\n",
       "      <td>...</td>\n",
       "      <td>NaN</td>\n",
       "      <td>NaN</td>\n",
       "      <td>NaN</td>\n",
       "      <td>NaN</td>\n",
       "      <td>NaN</td>\n",
       "      <td>NaN</td>\n",
       "      <td>NaN</td>\n",
       "      <td>NaN</td>\n",
       "      <td>NaN</td>\n",
       "      <td>NaN</td>\n",
       "    </tr>\n",
       "    <tr>\n",
       "      <td>3</td>\n",
       "      <td>2987003</td>\n",
       "      <td>0</td>\n",
       "      <td>86499</td>\n",
       "      <td>50.0</td>\n",
       "      <td>W</td>\n",
       "      <td>18132</td>\n",
       "      <td>567.0</td>\n",
       "      <td>150.0</td>\n",
       "      <td>mastercard</td>\n",
       "      <td>117.0</td>\n",
       "      <td>...</td>\n",
       "      <td>NaN</td>\n",
       "      <td>NaN</td>\n",
       "      <td>NaN</td>\n",
       "      <td>NaN</td>\n",
       "      <td>NaN</td>\n",
       "      <td>NaN</td>\n",
       "      <td>NaN</td>\n",
       "      <td>NaN</td>\n",
       "      <td>NaN</td>\n",
       "      <td>NaN</td>\n",
       "    </tr>\n",
       "    <tr>\n",
       "      <td>4</td>\n",
       "      <td>2987004</td>\n",
       "      <td>0</td>\n",
       "      <td>86506</td>\n",
       "      <td>50.0</td>\n",
       "      <td>H</td>\n",
       "      <td>4497</td>\n",
       "      <td>514.0</td>\n",
       "      <td>150.0</td>\n",
       "      <td>mastercard</td>\n",
       "      <td>102.0</td>\n",
       "      <td>...</td>\n",
       "      <td>samsung browser 6.2</td>\n",
       "      <td>32.0</td>\n",
       "      <td>2220x1080</td>\n",
       "      <td>match_status:2</td>\n",
       "      <td>T</td>\n",
       "      <td>F</td>\n",
       "      <td>T</td>\n",
       "      <td>T</td>\n",
       "      <td>mobile</td>\n",
       "      <td>SAMSUNG SM-G892A Build/NRD90M</td>\n",
       "    </tr>\n",
       "  </tbody>\n",
       "</table>\n",
       "<p>5 rows × 434 columns</p>\n",
       "</div>"
      ],
      "text/plain": [
       "   TransactionID  isFraud  TransactionDT  TransactionAmt ProductCD  card1  \\\n",
       "0        2987000        0          86400            68.5         W  13926   \n",
       "1        2987001        0          86401            29.0         W   2755   \n",
       "2        2987002        0          86469            59.0         W   4663   \n",
       "3        2987003        0          86499            50.0         W  18132   \n",
       "4        2987004        0          86506            50.0         H   4497   \n",
       "\n",
       "   card2  card3       card4  card5  ...                id_31  id_32  \\\n",
       "0    NaN  150.0    discover  142.0  ...                  NaN    NaN   \n",
       "1  404.0  150.0  mastercard  102.0  ...                  NaN    NaN   \n",
       "2  490.0  150.0        visa  166.0  ...                  NaN    NaN   \n",
       "3  567.0  150.0  mastercard  117.0  ...                  NaN    NaN   \n",
       "4  514.0  150.0  mastercard  102.0  ...  samsung browser 6.2   32.0   \n",
       "\n",
       "       id_33           id_34  id_35 id_36 id_37  id_38  DeviceType  \\\n",
       "0        NaN             NaN    NaN   NaN   NaN    NaN         NaN   \n",
       "1        NaN             NaN    NaN   NaN   NaN    NaN         NaN   \n",
       "2        NaN             NaN    NaN   NaN   NaN    NaN         NaN   \n",
       "3        NaN             NaN    NaN   NaN   NaN    NaN         NaN   \n",
       "4  2220x1080  match_status:2      T     F     T      T      mobile   \n",
       "\n",
       "                      DeviceInfo  \n",
       "0                            NaN  \n",
       "1                            NaN  \n",
       "2                            NaN  \n",
       "3                            NaN  \n",
       "4  SAMSUNG SM-G892A Build/NRD90M  \n",
       "\n",
       "[5 rows x 434 columns]"
      ]
     },
     "execution_count": 5,
     "metadata": {},
     "output_type": "execute_result"
    }
   ],
   "source": [
    "train.head()"
   ]
  },
  {
   "cell_type": "code",
   "execution_count": 6,
   "metadata": {},
   "outputs": [
    {
     "name": "stdout",
     "output_type": "stream",
     "text": [
      "<class 'pandas.core.frame.DataFrame'>\n",
      "Int64Index: 590540 entries, 0 to 590539\n",
      "Columns: 434 entries, TransactionID to DeviceInfo\n",
      "dtypes: float64(399), int64(4), object(31)\n",
      "memory usage: 1.9+ GB\n"
     ]
    }
   ],
   "source": [
    "train.info()"
   ]
  },
  {
   "cell_type": "code",
   "execution_count": 7,
   "metadata": {
    "scrolled": true
   },
   "outputs": [
    {
     "name": "stdout",
     "output_type": "stream",
     "text": [
      "<class 'pandas.core.frame.DataFrame'>\n",
      "Int64Index: 590540 entries, 0 to 590539\n",
      "Columns: 434 entries, TransactionID to DeviceInfo\n",
      "dtypes: float64(399), int64(4), object(31)\n",
      "memory usage: 1.9+ GB\n"
     ]
    }
   ],
   "source": [
    "train.info()"
   ]
  },
  {
   "cell_type": "code",
   "execution_count": 8,
   "metadata": {},
   "outputs": [
    {
     "data": {
      "text/html": [
       "<div>\n",
       "<style scoped>\n",
       "    .dataframe tbody tr th:only-of-type {\n",
       "        vertical-align: middle;\n",
       "    }\n",
       "\n",
       "    .dataframe tbody tr th {\n",
       "        vertical-align: top;\n",
       "    }\n",
       "\n",
       "    .dataframe thead th {\n",
       "        text-align: right;\n",
       "    }\n",
       "</style>\n",
       "<table border=\"1\" class=\"dataframe\">\n",
       "  <thead>\n",
       "    <tr style=\"text-align: right;\">\n",
       "      <th></th>\n",
       "      <th>TransactionID</th>\n",
       "      <th>isFraud</th>\n",
       "      <th>TransactionDT</th>\n",
       "      <th>TransactionAmt</th>\n",
       "      <th>card1</th>\n",
       "      <th>card2</th>\n",
       "      <th>card3</th>\n",
       "      <th>card5</th>\n",
       "      <th>addr1</th>\n",
       "      <th>addr2</th>\n",
       "      <th>...</th>\n",
       "      <th>id_17</th>\n",
       "      <th>id_18</th>\n",
       "      <th>id_19</th>\n",
       "      <th>id_20</th>\n",
       "      <th>id_21</th>\n",
       "      <th>id_22</th>\n",
       "      <th>id_24</th>\n",
       "      <th>id_25</th>\n",
       "      <th>id_26</th>\n",
       "      <th>id_32</th>\n",
       "    </tr>\n",
       "  </thead>\n",
       "  <tbody>\n",
       "    <tr>\n",
       "      <td>count</td>\n",
       "      <td>5.905400000000000e+05</td>\n",
       "      <td>590540.000000000000000</td>\n",
       "      <td>5.905400000000000e+05</td>\n",
       "      <td>590540.000000000000000</td>\n",
       "      <td>590540.000000000000000</td>\n",
       "      <td>581607.000000000000000</td>\n",
       "      <td>588975.000000000000000</td>\n",
       "      <td>586281.000000000000000</td>\n",
       "      <td>524834.000000000000000</td>\n",
       "      <td>524834.000000000000000</td>\n",
       "      <td>...</td>\n",
       "      <td>139369.000000000000000</td>\n",
       "      <td>45113.000000000000000</td>\n",
       "      <td>139318.000000000000000</td>\n",
       "      <td>139261.000000000000000</td>\n",
       "      <td>5159.000000000000000</td>\n",
       "      <td>5169.000000000000000</td>\n",
       "      <td>4747.000000000000000</td>\n",
       "      <td>5132.000000000000000</td>\n",
       "      <td>5163.000000000000000</td>\n",
       "      <td>77586.000000000000000</td>\n",
       "    </tr>\n",
       "    <tr>\n",
       "      <td>mean</td>\n",
       "      <td>3.282269500000000e+06</td>\n",
       "      <td>0.034990009144173</td>\n",
       "      <td>7.372311310116165e+06</td>\n",
       "      <td>135.027176372938214</td>\n",
       "      <td>9898.734658109526208</td>\n",
       "      <td>362.555488499966486</td>\n",
       "      <td>153.194925081709755</td>\n",
       "      <td>199.278896979434762</td>\n",
       "      <td>290.733793923411952</td>\n",
       "      <td>86.800630294531217</td>\n",
       "      <td>...</td>\n",
       "      <td>189.451377279021870</td>\n",
       "      <td>14.237337352869462</td>\n",
       "      <td>353.128174392397227</td>\n",
       "      <td>403.882666360287544</td>\n",
       "      <td>368.269819732506278</td>\n",
       "      <td>16.002708454246470</td>\n",
       "      <td>12.800926901200759</td>\n",
       "      <td>329.608924395946985</td>\n",
       "      <td>149.070307960488094</td>\n",
       "      <td>26.508596911813989</td>\n",
       "    </tr>\n",
       "    <tr>\n",
       "      <td>std</td>\n",
       "      <td>1.704743583204291e+05</td>\n",
       "      <td>0.183754634179073</td>\n",
       "      <td>4.617223646539679e+06</td>\n",
       "      <td>239.162522013661288</td>\n",
       "      <td>4901.170153494702390</td>\n",
       "      <td>157.793246310177125</td>\n",
       "      <td>11.336443990237404</td>\n",
       "      <td>41.244452964948309</td>\n",
       "      <td>101.741071758218027</td>\n",
       "      <td>2.690623486038362</td>\n",
       "      <td>...</td>\n",
       "      <td>30.375360488606223</td>\n",
       "      <td>1.561301528050160</td>\n",
       "      <td>141.095343019162954</td>\n",
       "      <td>152.160327216252483</td>\n",
       "      <td>198.847038472720925</td>\n",
       "      <td>6.897664752694688</td>\n",
       "      <td>2.372446657786929</td>\n",
       "      <td>97.461088799116439</td>\n",
       "      <td>32.101994679765710</td>\n",
       "      <td>3.737502025099724</td>\n",
       "    </tr>\n",
       "    <tr>\n",
       "      <td>min</td>\n",
       "      <td>2.987000000000000e+06</td>\n",
       "      <td>0.000000000000000</td>\n",
       "      <td>8.640000000000000e+04</td>\n",
       "      <td>0.251000000000000</td>\n",
       "      <td>1000.000000000000000</td>\n",
       "      <td>100.000000000000000</td>\n",
       "      <td>100.000000000000000</td>\n",
       "      <td>100.000000000000000</td>\n",
       "      <td>100.000000000000000</td>\n",
       "      <td>10.000000000000000</td>\n",
       "      <td>...</td>\n",
       "      <td>100.000000000000000</td>\n",
       "      <td>10.000000000000000</td>\n",
       "      <td>100.000000000000000</td>\n",
       "      <td>100.000000000000000</td>\n",
       "      <td>100.000000000000000</td>\n",
       "      <td>10.000000000000000</td>\n",
       "      <td>11.000000000000000</td>\n",
       "      <td>100.000000000000000</td>\n",
       "      <td>100.000000000000000</td>\n",
       "      <td>0.000000000000000</td>\n",
       "    </tr>\n",
       "    <tr>\n",
       "      <td>25%</td>\n",
       "      <td>3.134634750000000e+06</td>\n",
       "      <td>0.000000000000000</td>\n",
       "      <td>3.027057750000000e+06</td>\n",
       "      <td>43.321000000000005</td>\n",
       "      <td>6019.000000000000000</td>\n",
       "      <td>214.000000000000000</td>\n",
       "      <td>150.000000000000000</td>\n",
       "      <td>166.000000000000000</td>\n",
       "      <td>204.000000000000000</td>\n",
       "      <td>87.000000000000000</td>\n",
       "      <td>...</td>\n",
       "      <td>166.000000000000000</td>\n",
       "      <td>13.000000000000000</td>\n",
       "      <td>266.000000000000000</td>\n",
       "      <td>256.000000000000000</td>\n",
       "      <td>252.000000000000000</td>\n",
       "      <td>14.000000000000000</td>\n",
       "      <td>11.000000000000000</td>\n",
       "      <td>321.000000000000000</td>\n",
       "      <td>119.000000000000000</td>\n",
       "      <td>24.000000000000000</td>\n",
       "    </tr>\n",
       "    <tr>\n",
       "      <td>50%</td>\n",
       "      <td>3.282269500000000e+06</td>\n",
       "      <td>0.000000000000000</td>\n",
       "      <td>7.306527500000000e+06</td>\n",
       "      <td>68.769000000000005</td>\n",
       "      <td>9678.000000000000000</td>\n",
       "      <td>361.000000000000000</td>\n",
       "      <td>150.000000000000000</td>\n",
       "      <td>226.000000000000000</td>\n",
       "      <td>299.000000000000000</td>\n",
       "      <td>87.000000000000000</td>\n",
       "      <td>...</td>\n",
       "      <td>166.000000000000000</td>\n",
       "      <td>15.000000000000000</td>\n",
       "      <td>341.000000000000000</td>\n",
       "      <td>472.000000000000000</td>\n",
       "      <td>252.000000000000000</td>\n",
       "      <td>14.000000000000000</td>\n",
       "      <td>11.000000000000000</td>\n",
       "      <td>321.000000000000000</td>\n",
       "      <td>149.000000000000000</td>\n",
       "      <td>24.000000000000000</td>\n",
       "    </tr>\n",
       "    <tr>\n",
       "      <td>75%</td>\n",
       "      <td>3.429904250000000e+06</td>\n",
       "      <td>0.000000000000000</td>\n",
       "      <td>1.124662000000000e+07</td>\n",
       "      <td>125.000000000000000</td>\n",
       "      <td>14184.000000000000000</td>\n",
       "      <td>512.000000000000000</td>\n",
       "      <td>150.000000000000000</td>\n",
       "      <td>226.000000000000000</td>\n",
       "      <td>330.000000000000000</td>\n",
       "      <td>87.000000000000000</td>\n",
       "      <td>...</td>\n",
       "      <td>225.000000000000000</td>\n",
       "      <td>15.000000000000000</td>\n",
       "      <td>427.000000000000000</td>\n",
       "      <td>533.000000000000000</td>\n",
       "      <td>486.500000000000000</td>\n",
       "      <td>14.000000000000000</td>\n",
       "      <td>15.000000000000000</td>\n",
       "      <td>371.000000000000000</td>\n",
       "      <td>169.000000000000000</td>\n",
       "      <td>32.000000000000000</td>\n",
       "    </tr>\n",
       "    <tr>\n",
       "      <td>max</td>\n",
       "      <td>3.577539000000000e+06</td>\n",
       "      <td>1.000000000000000</td>\n",
       "      <td>1.581113100000000e+07</td>\n",
       "      <td>31937.390999999999622</td>\n",
       "      <td>18396.000000000000000</td>\n",
       "      <td>600.000000000000000</td>\n",
       "      <td>231.000000000000000</td>\n",
       "      <td>237.000000000000000</td>\n",
       "      <td>540.000000000000000</td>\n",
       "      <td>102.000000000000000</td>\n",
       "      <td>...</td>\n",
       "      <td>229.000000000000000</td>\n",
       "      <td>29.000000000000000</td>\n",
       "      <td>671.000000000000000</td>\n",
       "      <td>661.000000000000000</td>\n",
       "      <td>854.000000000000000</td>\n",
       "      <td>44.000000000000000</td>\n",
       "      <td>26.000000000000000</td>\n",
       "      <td>548.000000000000000</td>\n",
       "      <td>216.000000000000000</td>\n",
       "      <td>32.000000000000000</td>\n",
       "    </tr>\n",
       "  </tbody>\n",
       "</table>\n",
       "<p>8 rows × 403 columns</p>\n",
       "</div>"
      ],
      "text/plain": [
       "               TransactionID                 isFraud          TransactionDT  \\\n",
       "count  5.905400000000000e+05  590540.000000000000000  5.905400000000000e+05   \n",
       "mean   3.282269500000000e+06       0.034990009144173  7.372311310116165e+06   \n",
       "std    1.704743583204291e+05       0.183754634179073  4.617223646539679e+06   \n",
       "min    2.987000000000000e+06       0.000000000000000  8.640000000000000e+04   \n",
       "25%    3.134634750000000e+06       0.000000000000000  3.027057750000000e+06   \n",
       "50%    3.282269500000000e+06       0.000000000000000  7.306527500000000e+06   \n",
       "75%    3.429904250000000e+06       0.000000000000000  1.124662000000000e+07   \n",
       "max    3.577539000000000e+06       1.000000000000000  1.581113100000000e+07   \n",
       "\n",
       "               TransactionAmt                   card1                   card2  \\\n",
       "count  590540.000000000000000  590540.000000000000000  581607.000000000000000   \n",
       "mean      135.027176372938214    9898.734658109526208     362.555488499966486   \n",
       "std       239.162522013661288    4901.170153494702390     157.793246310177125   \n",
       "min         0.251000000000000    1000.000000000000000     100.000000000000000   \n",
       "25%        43.321000000000005    6019.000000000000000     214.000000000000000   \n",
       "50%        68.769000000000005    9678.000000000000000     361.000000000000000   \n",
       "75%       125.000000000000000   14184.000000000000000     512.000000000000000   \n",
       "max     31937.390999999999622   18396.000000000000000     600.000000000000000   \n",
       "\n",
       "                        card3                   card5                   addr1  \\\n",
       "count  588975.000000000000000  586281.000000000000000  524834.000000000000000   \n",
       "mean      153.194925081709755     199.278896979434762     290.733793923411952   \n",
       "std        11.336443990237404      41.244452964948309     101.741071758218027   \n",
       "min       100.000000000000000     100.000000000000000     100.000000000000000   \n",
       "25%       150.000000000000000     166.000000000000000     204.000000000000000   \n",
       "50%       150.000000000000000     226.000000000000000     299.000000000000000   \n",
       "75%       150.000000000000000     226.000000000000000     330.000000000000000   \n",
       "max       231.000000000000000     237.000000000000000     540.000000000000000   \n",
       "\n",
       "                        addr2  ...                   id_17  \\\n",
       "count  524834.000000000000000  ...  139369.000000000000000   \n",
       "mean       86.800630294531217  ...     189.451377279021870   \n",
       "std         2.690623486038362  ...      30.375360488606223   \n",
       "min        10.000000000000000  ...     100.000000000000000   \n",
       "25%        87.000000000000000  ...     166.000000000000000   \n",
       "50%        87.000000000000000  ...     166.000000000000000   \n",
       "75%        87.000000000000000  ...     225.000000000000000   \n",
       "max       102.000000000000000  ...     229.000000000000000   \n",
       "\n",
       "                       id_18                   id_19                   id_20  \\\n",
       "count  45113.000000000000000  139318.000000000000000  139261.000000000000000   \n",
       "mean      14.237337352869462     353.128174392397227     403.882666360287544   \n",
       "std        1.561301528050160     141.095343019162954     152.160327216252483   \n",
       "min       10.000000000000000     100.000000000000000     100.000000000000000   \n",
       "25%       13.000000000000000     266.000000000000000     256.000000000000000   \n",
       "50%       15.000000000000000     341.000000000000000     472.000000000000000   \n",
       "75%       15.000000000000000     427.000000000000000     533.000000000000000   \n",
       "max       29.000000000000000     671.000000000000000     661.000000000000000   \n",
       "\n",
       "                      id_21                 id_22                 id_24  \\\n",
       "count  5159.000000000000000  5169.000000000000000  4747.000000000000000   \n",
       "mean    368.269819732506278    16.002708454246470    12.800926901200759   \n",
       "std     198.847038472720925     6.897664752694688     2.372446657786929   \n",
       "min     100.000000000000000    10.000000000000000    11.000000000000000   \n",
       "25%     252.000000000000000    14.000000000000000    11.000000000000000   \n",
       "50%     252.000000000000000    14.000000000000000    11.000000000000000   \n",
       "75%     486.500000000000000    14.000000000000000    15.000000000000000   \n",
       "max     854.000000000000000    44.000000000000000    26.000000000000000   \n",
       "\n",
       "                      id_25                 id_26                  id_32  \n",
       "count  5132.000000000000000  5163.000000000000000  77586.000000000000000  \n",
       "mean    329.608924395946985   149.070307960488094     26.508596911813989  \n",
       "std      97.461088799116439    32.101994679765710      3.737502025099724  \n",
       "min     100.000000000000000   100.000000000000000      0.000000000000000  \n",
       "25%     321.000000000000000   119.000000000000000     24.000000000000000  \n",
       "50%     321.000000000000000   149.000000000000000     24.000000000000000  \n",
       "75%     371.000000000000000   169.000000000000000     32.000000000000000  \n",
       "max     548.000000000000000   216.000000000000000     32.000000000000000  \n",
       "\n",
       "[8 rows x 403 columns]"
      ]
     },
     "execution_count": 8,
     "metadata": {},
     "output_type": "execute_result"
    }
   ],
   "source": [
    "train.describe()"
   ]
  },
  {
   "cell_type": "code",
   "execution_count": 9,
   "metadata": {},
   "outputs": [
    {
     "data": {
      "text/html": [
       "<div>\n",
       "<style scoped>\n",
       "    .dataframe tbody tr th:only-of-type {\n",
       "        vertical-align: middle;\n",
       "    }\n",
       "\n",
       "    .dataframe tbody tr th {\n",
       "        vertical-align: top;\n",
       "    }\n",
       "\n",
       "    .dataframe thead th {\n",
       "        text-align: right;\n",
       "    }\n",
       "</style>\n",
       "<table border=\"1\" class=\"dataframe\">\n",
       "  <thead>\n",
       "    <tr style=\"text-align: right;\">\n",
       "      <th></th>\n",
       "      <th>TransactionID</th>\n",
       "      <th>isFraud</th>\n",
       "      <th>TransactionDT</th>\n",
       "      <th>TransactionAmt</th>\n",
       "      <th>card1</th>\n",
       "      <th>card2</th>\n",
       "      <th>card3</th>\n",
       "      <th>card5</th>\n",
       "      <th>addr1</th>\n",
       "      <th>addr2</th>\n",
       "      <th>...</th>\n",
       "      <th>id_17</th>\n",
       "      <th>id_18</th>\n",
       "      <th>id_19</th>\n",
       "      <th>id_20</th>\n",
       "      <th>id_21</th>\n",
       "      <th>id_22</th>\n",
       "      <th>id_24</th>\n",
       "      <th>id_25</th>\n",
       "      <th>id_26</th>\n",
       "      <th>id_32</th>\n",
       "    </tr>\n",
       "  </thead>\n",
       "  <tbody>\n",
       "    <tr>\n",
       "      <td>count</td>\n",
       "      <td>5.905400000000000e+05</td>\n",
       "      <td>590540.000000000000000</td>\n",
       "      <td>5.905400000000000e+05</td>\n",
       "      <td>590540.000000000000000</td>\n",
       "      <td>590540.000000000000000</td>\n",
       "      <td>581607.000000000000000</td>\n",
       "      <td>588975.000000000000000</td>\n",
       "      <td>586281.000000000000000</td>\n",
       "      <td>524834.000000000000000</td>\n",
       "      <td>524834.000000000000000</td>\n",
       "      <td>...</td>\n",
       "      <td>139369.000000000000000</td>\n",
       "      <td>45113.000000000000000</td>\n",
       "      <td>139318.000000000000000</td>\n",
       "      <td>139261.000000000000000</td>\n",
       "      <td>5159.000000000000000</td>\n",
       "      <td>5169.000000000000000</td>\n",
       "      <td>4747.000000000000000</td>\n",
       "      <td>5132.000000000000000</td>\n",
       "      <td>5163.000000000000000</td>\n",
       "      <td>77586.000000000000000</td>\n",
       "    </tr>\n",
       "    <tr>\n",
       "      <td>mean</td>\n",
       "      <td>3.282269500000000e+06</td>\n",
       "      <td>0.034990009144173</td>\n",
       "      <td>7.372311310116165e+06</td>\n",
       "      <td>135.027176372938214</td>\n",
       "      <td>9898.734658109526208</td>\n",
       "      <td>362.555488499966486</td>\n",
       "      <td>153.194925081709755</td>\n",
       "      <td>199.278896979434762</td>\n",
       "      <td>290.733793923411952</td>\n",
       "      <td>86.800630294531217</td>\n",
       "      <td>...</td>\n",
       "      <td>189.451377279021870</td>\n",
       "      <td>14.237337352869462</td>\n",
       "      <td>353.128174392397227</td>\n",
       "      <td>403.882666360287544</td>\n",
       "      <td>368.269819732506278</td>\n",
       "      <td>16.002708454246470</td>\n",
       "      <td>12.800926901200759</td>\n",
       "      <td>329.608924395946985</td>\n",
       "      <td>149.070307960488094</td>\n",
       "      <td>26.508596911813989</td>\n",
       "    </tr>\n",
       "    <tr>\n",
       "      <td>std</td>\n",
       "      <td>1.704743583204291e+05</td>\n",
       "      <td>0.183754634179073</td>\n",
       "      <td>4.617223646539679e+06</td>\n",
       "      <td>239.162522013661288</td>\n",
       "      <td>4901.170153494702390</td>\n",
       "      <td>157.793246310177125</td>\n",
       "      <td>11.336443990237404</td>\n",
       "      <td>41.244452964948309</td>\n",
       "      <td>101.741071758218027</td>\n",
       "      <td>2.690623486038362</td>\n",
       "      <td>...</td>\n",
       "      <td>30.375360488606223</td>\n",
       "      <td>1.561301528050160</td>\n",
       "      <td>141.095343019162954</td>\n",
       "      <td>152.160327216252483</td>\n",
       "      <td>198.847038472720925</td>\n",
       "      <td>6.897664752694688</td>\n",
       "      <td>2.372446657786929</td>\n",
       "      <td>97.461088799116439</td>\n",
       "      <td>32.101994679765710</td>\n",
       "      <td>3.737502025099724</td>\n",
       "    </tr>\n",
       "    <tr>\n",
       "      <td>min</td>\n",
       "      <td>2.987000000000000e+06</td>\n",
       "      <td>0.000000000000000</td>\n",
       "      <td>8.640000000000000e+04</td>\n",
       "      <td>0.251000000000000</td>\n",
       "      <td>1000.000000000000000</td>\n",
       "      <td>100.000000000000000</td>\n",
       "      <td>100.000000000000000</td>\n",
       "      <td>100.000000000000000</td>\n",
       "      <td>100.000000000000000</td>\n",
       "      <td>10.000000000000000</td>\n",
       "      <td>...</td>\n",
       "      <td>100.000000000000000</td>\n",
       "      <td>10.000000000000000</td>\n",
       "      <td>100.000000000000000</td>\n",
       "      <td>100.000000000000000</td>\n",
       "      <td>100.000000000000000</td>\n",
       "      <td>10.000000000000000</td>\n",
       "      <td>11.000000000000000</td>\n",
       "      <td>100.000000000000000</td>\n",
       "      <td>100.000000000000000</td>\n",
       "      <td>0.000000000000000</td>\n",
       "    </tr>\n",
       "    <tr>\n",
       "      <td>25%</td>\n",
       "      <td>3.134634750000000e+06</td>\n",
       "      <td>0.000000000000000</td>\n",
       "      <td>3.027057750000000e+06</td>\n",
       "      <td>43.321000000000005</td>\n",
       "      <td>6019.000000000000000</td>\n",
       "      <td>214.000000000000000</td>\n",
       "      <td>150.000000000000000</td>\n",
       "      <td>166.000000000000000</td>\n",
       "      <td>204.000000000000000</td>\n",
       "      <td>87.000000000000000</td>\n",
       "      <td>...</td>\n",
       "      <td>166.000000000000000</td>\n",
       "      <td>13.000000000000000</td>\n",
       "      <td>266.000000000000000</td>\n",
       "      <td>256.000000000000000</td>\n",
       "      <td>252.000000000000000</td>\n",
       "      <td>14.000000000000000</td>\n",
       "      <td>11.000000000000000</td>\n",
       "      <td>321.000000000000000</td>\n",
       "      <td>119.000000000000000</td>\n",
       "      <td>24.000000000000000</td>\n",
       "    </tr>\n",
       "    <tr>\n",
       "      <td>50%</td>\n",
       "      <td>3.282269500000000e+06</td>\n",
       "      <td>0.000000000000000</td>\n",
       "      <td>7.306527500000000e+06</td>\n",
       "      <td>68.769000000000005</td>\n",
       "      <td>9678.000000000000000</td>\n",
       "      <td>361.000000000000000</td>\n",
       "      <td>150.000000000000000</td>\n",
       "      <td>226.000000000000000</td>\n",
       "      <td>299.000000000000000</td>\n",
       "      <td>87.000000000000000</td>\n",
       "      <td>...</td>\n",
       "      <td>166.000000000000000</td>\n",
       "      <td>15.000000000000000</td>\n",
       "      <td>341.000000000000000</td>\n",
       "      <td>472.000000000000000</td>\n",
       "      <td>252.000000000000000</td>\n",
       "      <td>14.000000000000000</td>\n",
       "      <td>11.000000000000000</td>\n",
       "      <td>321.000000000000000</td>\n",
       "      <td>149.000000000000000</td>\n",
       "      <td>24.000000000000000</td>\n",
       "    </tr>\n",
       "    <tr>\n",
       "      <td>75%</td>\n",
       "      <td>3.429904250000000e+06</td>\n",
       "      <td>0.000000000000000</td>\n",
       "      <td>1.124662000000000e+07</td>\n",
       "      <td>125.000000000000000</td>\n",
       "      <td>14184.000000000000000</td>\n",
       "      <td>512.000000000000000</td>\n",
       "      <td>150.000000000000000</td>\n",
       "      <td>226.000000000000000</td>\n",
       "      <td>330.000000000000000</td>\n",
       "      <td>87.000000000000000</td>\n",
       "      <td>...</td>\n",
       "      <td>225.000000000000000</td>\n",
       "      <td>15.000000000000000</td>\n",
       "      <td>427.000000000000000</td>\n",
       "      <td>533.000000000000000</td>\n",
       "      <td>486.500000000000000</td>\n",
       "      <td>14.000000000000000</td>\n",
       "      <td>15.000000000000000</td>\n",
       "      <td>371.000000000000000</td>\n",
       "      <td>169.000000000000000</td>\n",
       "      <td>32.000000000000000</td>\n",
       "    </tr>\n",
       "    <tr>\n",
       "      <td>max</td>\n",
       "      <td>3.577539000000000e+06</td>\n",
       "      <td>1.000000000000000</td>\n",
       "      <td>1.581113100000000e+07</td>\n",
       "      <td>31937.390999999999622</td>\n",
       "      <td>18396.000000000000000</td>\n",
       "      <td>600.000000000000000</td>\n",
       "      <td>231.000000000000000</td>\n",
       "      <td>237.000000000000000</td>\n",
       "      <td>540.000000000000000</td>\n",
       "      <td>102.000000000000000</td>\n",
       "      <td>...</td>\n",
       "      <td>229.000000000000000</td>\n",
       "      <td>29.000000000000000</td>\n",
       "      <td>671.000000000000000</td>\n",
       "      <td>661.000000000000000</td>\n",
       "      <td>854.000000000000000</td>\n",
       "      <td>44.000000000000000</td>\n",
       "      <td>26.000000000000000</td>\n",
       "      <td>548.000000000000000</td>\n",
       "      <td>216.000000000000000</td>\n",
       "      <td>32.000000000000000</td>\n",
       "    </tr>\n",
       "  </tbody>\n",
       "</table>\n",
       "<p>8 rows × 403 columns</p>\n",
       "</div>"
      ],
      "text/plain": [
       "               TransactionID                 isFraud          TransactionDT  \\\n",
       "count  5.905400000000000e+05  590540.000000000000000  5.905400000000000e+05   \n",
       "mean   3.282269500000000e+06       0.034990009144173  7.372311310116165e+06   \n",
       "std    1.704743583204291e+05       0.183754634179073  4.617223646539679e+06   \n",
       "min    2.987000000000000e+06       0.000000000000000  8.640000000000000e+04   \n",
       "25%    3.134634750000000e+06       0.000000000000000  3.027057750000000e+06   \n",
       "50%    3.282269500000000e+06       0.000000000000000  7.306527500000000e+06   \n",
       "75%    3.429904250000000e+06       0.000000000000000  1.124662000000000e+07   \n",
       "max    3.577539000000000e+06       1.000000000000000  1.581113100000000e+07   \n",
       "\n",
       "               TransactionAmt                   card1                   card2  \\\n",
       "count  590540.000000000000000  590540.000000000000000  581607.000000000000000   \n",
       "mean      135.027176372938214    9898.734658109526208     362.555488499966486   \n",
       "std       239.162522013661288    4901.170153494702390     157.793246310177125   \n",
       "min         0.251000000000000    1000.000000000000000     100.000000000000000   \n",
       "25%        43.321000000000005    6019.000000000000000     214.000000000000000   \n",
       "50%        68.769000000000005    9678.000000000000000     361.000000000000000   \n",
       "75%       125.000000000000000   14184.000000000000000     512.000000000000000   \n",
       "max     31937.390999999999622   18396.000000000000000     600.000000000000000   \n",
       "\n",
       "                        card3                   card5                   addr1  \\\n",
       "count  588975.000000000000000  586281.000000000000000  524834.000000000000000   \n",
       "mean      153.194925081709755     199.278896979434762     290.733793923411952   \n",
       "std        11.336443990237404      41.244452964948309     101.741071758218027   \n",
       "min       100.000000000000000     100.000000000000000     100.000000000000000   \n",
       "25%       150.000000000000000     166.000000000000000     204.000000000000000   \n",
       "50%       150.000000000000000     226.000000000000000     299.000000000000000   \n",
       "75%       150.000000000000000     226.000000000000000     330.000000000000000   \n",
       "max       231.000000000000000     237.000000000000000     540.000000000000000   \n",
       "\n",
       "                        addr2  ...                   id_17  \\\n",
       "count  524834.000000000000000  ...  139369.000000000000000   \n",
       "mean       86.800630294531217  ...     189.451377279021870   \n",
       "std         2.690623486038362  ...      30.375360488606223   \n",
       "min        10.000000000000000  ...     100.000000000000000   \n",
       "25%        87.000000000000000  ...     166.000000000000000   \n",
       "50%        87.000000000000000  ...     166.000000000000000   \n",
       "75%        87.000000000000000  ...     225.000000000000000   \n",
       "max       102.000000000000000  ...     229.000000000000000   \n",
       "\n",
       "                       id_18                   id_19                   id_20  \\\n",
       "count  45113.000000000000000  139318.000000000000000  139261.000000000000000   \n",
       "mean      14.237337352869462     353.128174392397227     403.882666360287544   \n",
       "std        1.561301528050160     141.095343019162954     152.160327216252483   \n",
       "min       10.000000000000000     100.000000000000000     100.000000000000000   \n",
       "25%       13.000000000000000     266.000000000000000     256.000000000000000   \n",
       "50%       15.000000000000000     341.000000000000000     472.000000000000000   \n",
       "75%       15.000000000000000     427.000000000000000     533.000000000000000   \n",
       "max       29.000000000000000     671.000000000000000     661.000000000000000   \n",
       "\n",
       "                      id_21                 id_22                 id_24  \\\n",
       "count  5159.000000000000000  5169.000000000000000  4747.000000000000000   \n",
       "mean    368.269819732506278    16.002708454246470    12.800926901200759   \n",
       "std     198.847038472720925     6.897664752694688     2.372446657786929   \n",
       "min     100.000000000000000    10.000000000000000    11.000000000000000   \n",
       "25%     252.000000000000000    14.000000000000000    11.000000000000000   \n",
       "50%     252.000000000000000    14.000000000000000    11.000000000000000   \n",
       "75%     486.500000000000000    14.000000000000000    15.000000000000000   \n",
       "max     854.000000000000000    44.000000000000000    26.000000000000000   \n",
       "\n",
       "                      id_25                 id_26                  id_32  \n",
       "count  5132.000000000000000  5163.000000000000000  77586.000000000000000  \n",
       "mean    329.608924395946985   149.070307960488094     26.508596911813989  \n",
       "std      97.461088799116439    32.101994679765710      3.737502025099724  \n",
       "min     100.000000000000000   100.000000000000000      0.000000000000000  \n",
       "25%     321.000000000000000   119.000000000000000     24.000000000000000  \n",
       "50%     321.000000000000000   149.000000000000000     24.000000000000000  \n",
       "75%     371.000000000000000   169.000000000000000     32.000000000000000  \n",
       "max     548.000000000000000   216.000000000000000     32.000000000000000  \n",
       "\n",
       "[8 rows x 403 columns]"
      ]
     },
     "execution_count": 9,
     "metadata": {},
     "output_type": "execute_result"
    }
   ],
   "source": [
    "train.describe()"
   ]
  },
  {
   "cell_type": "markdown",
   "metadata": {},
   "source": [
    "## Exploratory analysis "
   ]
  },
  {
   "cell_type": "code",
   "execution_count": 10,
   "metadata": {},
   "outputs": [
    {
     "name": "stdout",
     "output_type": "stream",
     "text": [
      "Total Observations: 590540\n",
      "Number of Features: 434\n",
      "Column names: Index(['TransactionID', 'isFraud', 'TransactionDT', 'TransactionAmt',\n",
      "       'ProductCD', 'card1', 'card2', 'card3', 'card4', 'card5',\n",
      "       ...\n",
      "       'id_31', 'id_32', 'id_33', 'id_34', 'id_35', 'id_36', 'id_37', 'id_38',\n",
      "       'DeviceType', 'DeviceInfo'],\n",
      "      dtype='object', length=434)\n"
     ]
    }
   ],
   "source": [
    "print(\"Total Observations: {}\".format(train.count()[0]))\n",
    "print(\"Number of Features: {}\".format(len(train.columns)))\n",
    "print('Column names: {}'.format(train.columns))"
   ]
  },
  {
   "cell_type": "code",
   "execution_count": 11,
   "metadata": {},
   "outputs": [
    {
     "name": "stdout",
     "output_type": "stream",
     "text": [
      "Total Observations: 590540\n",
      "Number of Features: 434\n",
      "Column names: Index(['TransactionID', 'isFraud', 'TransactionDT', 'TransactionAmt',\n",
      "       'ProductCD', 'card1', 'card2', 'card3', 'card4', 'card5',\n",
      "       ...\n",
      "       'id_31', 'id_32', 'id_33', 'id_34', 'id_35', 'id_36', 'id_37', 'id_38',\n",
      "       'DeviceType', 'DeviceInfo'],\n",
      "      dtype='object', length=434)\n"
     ]
    }
   ],
   "source": [
    "print(\"Total Observations: {}\".format(train.count()[0]))\n",
    "print(\"Number of Features: {}\".format(len(train.columns)))\n",
    "print('Column names: {}'.format(train.columns))"
   ]
  },
  {
   "cell_type": "markdown",
   "metadata": {},
   "source": [
    "Lets first explore the transaction table as it has variety of columns"
   ]
  },
  {
   "cell_type": "code",
   "execution_count": 12,
   "metadata": {},
   "outputs": [
    {
     "data": {
      "text/plain": [
       "<matplotlib.axes._subplots.AxesSubplot at 0x173594e0>"
      ]
     },
     "execution_count": 12,
     "metadata": {},
     "output_type": "execute_result"
    },
    {
     "data": {
      "image/png": "[encoded data removed]",
      "text/plain": [
       "<matplotlib.figure.Figure at 0x170a8978>"
      ]
     },
     "metadata": {},
     "output_type": "display_data"
    }
   ],
   "source": [
    "train.isFraud.plot(kind='hist')"
   ]
  },
  {
   "cell_type": "markdown",
   "metadata": {},
   "source": [
    "Above plot shows the fraud transactions are very less compared to non fraud transactions and it is heavily imbalanced"
   ]
  },
  {
   "cell_type": "code",
   "execution_count": 13,
   "metadata": {},
   "outputs": [
    {
     "data": {
      "text/plain": [
       "<matplotlib.axes._subplots.AxesSubplot at 0x15b3c390>"
      ]
     },
     "execution_count": 13,
     "metadata": {},
     "output_type": "execute_result"
    },
    {
     "data": {
      "image/png": "[encoded data removed]",
      "text/plain": [
       "<matplotlib.figure.Figure at 0x170a86d8>"
      ]
     },
     "metadata": {},
     "output_type": "display_data"
    }
   ],
   "source": [
    "train.TransactionAmt.plot(kind='box')"
   ]
  },
  {
   "cell_type": "markdown",
   "metadata": {},
   "source": [
    "Seems the transaction amount is heavily skewed.  "
   ]
  },
  {
   "cell_type": "code",
   "execution_count": 14,
   "metadata": {},
   "outputs": [
    {
     "data": {
      "text/plain": [
       "<matplotlib.axes._subplots.AxesSubplot at 0x164186d8>"
      ]
     },
     "execution_count": 14,
     "metadata": {},
     "output_type": "execute_result"
    },
    {
     "data": {
      "image/png": "[encoded data removed]",
      "text/plain": [
       "<matplotlib.figure.Figure at 0x1649e160>"
      ]
     },
     "metadata": {},
     "output_type": "display_data"
    }
   ],
   "source": [
    "train.TransactionAmt[train.TransactionAmt < 30000].plot(kind='box')"
   ]
  },
  {
   "cell_type": "code",
   "execution_count": 15,
   "metadata": {},
   "outputs": [
    {
     "data": {
      "text/plain": [
       "134.91946996344856"
      ]
     },
     "execution_count": 15,
     "metadata": {},
     "output_type": "execute_result"
    }
   ],
   "source": [
    "#Except couple of transactions the average transaction amount is ~$135\n",
    "train.TransactionAmt[train.TransactionAmt < 30000].mean()"
   ]
  },
  {
   "cell_type": "code",
   "execution_count": 16,
   "metadata": {},
   "outputs": [
    {
     "data": {
      "text/plain": [
       "149.2447785897534"
      ]
     },
     "execution_count": 16,
     "metadata": {},
     "output_type": "execute_result"
    }
   ],
   "source": [
    "#fraud transaction mean amount\n",
    "train.TransactionAmt[train.isFraud ==1].mean()"
   ]
  },
  {
   "cell_type": "code",
   "execution_count": 17,
   "metadata": {},
   "outputs": [
    {
     "data": {
      "text/plain": [
       "20663"
      ]
     },
     "execution_count": 17,
     "metadata": {},
     "output_type": "execute_result"
    }
   ],
   "source": [
    "train.TransactionAmt[train.isFraud ==1].count()"
   ]
  },
  {
   "cell_type": "code",
   "execution_count": 18,
   "metadata": {},
   "outputs": [
    {
     "data": {
      "text/plain": [
       "0.03499000914417313"
      ]
     },
     "execution_count": 18,
     "metadata": {},
     "output_type": "execute_result"
    }
   ],
   "source": [
    "#Total percentage of fraud transactions\n",
    "train.TransactionAmt[train.isFraud ==1].count()/train.count()[0]"
   ]
  },
  {
   "cell_type": "code",
   "execution_count": 19,
   "metadata": {},
   "outputs": [
    {
     "data": {
      "text/plain": [
       "274339    31937.390999999999622\n",
       "274336    31937.390999999999622\n",
       "296021     6450.970000000000255\n",
       "248413     6085.229999999999563\n",
       "384603     5543.229999999999563\n",
       "Name: TransactionAmt, dtype: float64"
      ]
     },
     "execution_count": 19,
     "metadata": {},
     "output_type": "execute_result"
    }
   ],
   "source": [
    "#Top 5 transaction amount\n",
    "train.TransactionAmt.sort_values(ascending=False).head()"
   ]
  },
  {
   "cell_type": "code",
   "execution_count": 20,
   "metadata": {},
   "outputs": [
    {
     "data": {
      "text/html": [
       "<div>\n",
       "<style scoped>\n",
       "    .dataframe tbody tr th:only-of-type {\n",
       "        vertical-align: middle;\n",
       "    }\n",
       "\n",
       "    .dataframe tbody tr th {\n",
       "        vertical-align: top;\n",
       "    }\n",
       "\n",
       "    .dataframe thead th {\n",
       "        text-align: right;\n",
       "    }\n",
       "</style>\n",
       "<table border=\"1\" class=\"dataframe\">\n",
       "  <thead>\n",
       "    <tr style=\"text-align: right;\">\n",
       "      <th></th>\n",
       "      <th>TransactionID</th>\n",
       "      <th>isFraud</th>\n",
       "      <th>TransactionDT</th>\n",
       "      <th>TransactionAmt</th>\n",
       "      <th>ProductCD</th>\n",
       "      <th>card1</th>\n",
       "      <th>card2</th>\n",
       "      <th>card3</th>\n",
       "      <th>card4</th>\n",
       "      <th>card5</th>\n",
       "      <th>...</th>\n",
       "      <th>id_31</th>\n",
       "      <th>id_32</th>\n",
       "      <th>id_33</th>\n",
       "      <th>id_34</th>\n",
       "      <th>id_35</th>\n",
       "      <th>id_36</th>\n",
       "      <th>id_37</th>\n",
       "      <th>id_38</th>\n",
       "      <th>DeviceType</th>\n",
       "      <th>DeviceInfo</th>\n",
       "    </tr>\n",
       "  </thead>\n",
       "  <tbody>\n",
       "    <tr>\n",
       "      <td>203</td>\n",
       "      <td>2987203</td>\n",
       "      <td>1</td>\n",
       "      <td>89760</td>\n",
       "      <td>445.000000000000000</td>\n",
       "      <td>W</td>\n",
       "      <td>18268</td>\n",
       "      <td>583.0</td>\n",
       "      <td>150.0</td>\n",
       "      <td>visa</td>\n",
       "      <td>226.0</td>\n",
       "      <td>...</td>\n",
       "      <td>NaN</td>\n",
       "      <td>NaN</td>\n",
       "      <td>NaN</td>\n",
       "      <td>NaN</td>\n",
       "      <td>NaN</td>\n",
       "      <td>NaN</td>\n",
       "      <td>NaN</td>\n",
       "      <td>NaN</td>\n",
       "      <td>NaN</td>\n",
       "      <td>NaN</td>\n",
       "    </tr>\n",
       "    <tr>\n",
       "      <td>240</td>\n",
       "      <td>2987240</td>\n",
       "      <td>1</td>\n",
       "      <td>90193</td>\n",
       "      <td>37.097999999999999</td>\n",
       "      <td>C</td>\n",
       "      <td>13413</td>\n",
       "      <td>103.0</td>\n",
       "      <td>185.0</td>\n",
       "      <td>visa</td>\n",
       "      <td>137.0</td>\n",
       "      <td>...</td>\n",
       "      <td>chrome 54.0 for android</td>\n",
       "      <td>NaN</td>\n",
       "      <td>NaN</td>\n",
       "      <td>NaN</td>\n",
       "      <td>F</td>\n",
       "      <td>F</td>\n",
       "      <td>T</td>\n",
       "      <td>T</td>\n",
       "      <td>mobile</td>\n",
       "      <td>Redmi Note 4 Build/MMB29M</td>\n",
       "    </tr>\n",
       "    <tr>\n",
       "      <td>243</td>\n",
       "      <td>2987243</td>\n",
       "      <td>1</td>\n",
       "      <td>90246</td>\n",
       "      <td>37.097999999999999</td>\n",
       "      <td>C</td>\n",
       "      <td>13413</td>\n",
       "      <td>103.0</td>\n",
       "      <td>185.0</td>\n",
       "      <td>visa</td>\n",
       "      <td>137.0</td>\n",
       "      <td>...</td>\n",
       "      <td>chrome 54.0 for android</td>\n",
       "      <td>NaN</td>\n",
       "      <td>NaN</td>\n",
       "      <td>NaN</td>\n",
       "      <td>F</td>\n",
       "      <td>F</td>\n",
       "      <td>T</td>\n",
       "      <td>T</td>\n",
       "      <td>mobile</td>\n",
       "      <td>Redmi Note 4 Build/MMB29M</td>\n",
       "    </tr>\n",
       "    <tr>\n",
       "      <td>245</td>\n",
       "      <td>2987245</td>\n",
       "      <td>1</td>\n",
       "      <td>90295</td>\n",
       "      <td>37.097999999999999</td>\n",
       "      <td>C</td>\n",
       "      <td>13413</td>\n",
       "      <td>103.0</td>\n",
       "      <td>185.0</td>\n",
       "      <td>visa</td>\n",
       "      <td>137.0</td>\n",
       "      <td>...</td>\n",
       "      <td>chrome 54.0 for android</td>\n",
       "      <td>NaN</td>\n",
       "      <td>NaN</td>\n",
       "      <td>NaN</td>\n",
       "      <td>F</td>\n",
       "      <td>F</td>\n",
       "      <td>T</td>\n",
       "      <td>T</td>\n",
       "      <td>mobile</td>\n",
       "      <td>Redmi Note 4 Build/MMB29M</td>\n",
       "    </tr>\n",
       "    <tr>\n",
       "      <td>288</td>\n",
       "      <td>2987288</td>\n",
       "      <td>1</td>\n",
       "      <td>90986</td>\n",
       "      <td>155.521000000000015</td>\n",
       "      <td>C</td>\n",
       "      <td>16578</td>\n",
       "      <td>545.0</td>\n",
       "      <td>185.0</td>\n",
       "      <td>visa</td>\n",
       "      <td>226.0</td>\n",
       "      <td>...</td>\n",
       "      <td>chrome 62.0 for ios</td>\n",
       "      <td>NaN</td>\n",
       "      <td>NaN</td>\n",
       "      <td>NaN</td>\n",
       "      <td>F</td>\n",
       "      <td>F</td>\n",
       "      <td>F</td>\n",
       "      <td>F</td>\n",
       "      <td>mobile</td>\n",
       "      <td>NaN</td>\n",
       "    </tr>\n",
       "  </tbody>\n",
       "</table>\n",
       "<p>5 rows × 434 columns</p>\n",
       "</div>"
      ],
      "text/plain": [
       "     TransactionID  isFraud  TransactionDT       TransactionAmt ProductCD  \\\n",
       "203        2987203        1          89760  445.000000000000000         W   \n",
       "240        2987240        1          90193   37.097999999999999         C   \n",
       "243        2987243        1          90246   37.097999999999999         C   \n",
       "245        2987245        1          90295   37.097999999999999         C   \n",
       "288        2987288        1          90986  155.521000000000015         C   \n",
       "\n",
       "     card1  card2  card3 card4  card5  ...                    id_31  id_32  \\\n",
       "203  18268  583.0  150.0  visa  226.0  ...                      NaN    NaN   \n",
       "240  13413  103.0  185.0  visa  137.0  ...  chrome 54.0 for android    NaN   \n",
       "243  13413  103.0  185.0  visa  137.0  ...  chrome 54.0 for android    NaN   \n",
       "245  13413  103.0  185.0  visa  137.0  ...  chrome 54.0 for android    NaN   \n",
       "288  16578  545.0  185.0  visa  226.0  ...      chrome 62.0 for ios    NaN   \n",
       "\n",
       "     id_33  id_34  id_35 id_36 id_37  id_38  DeviceType  \\\n",
       "203    NaN    NaN    NaN   NaN   NaN    NaN         NaN   \n",
       "240    NaN    NaN      F     F     T      T      mobile   \n",
       "243    NaN    NaN      F     F     T      T      mobile   \n",
       "245    NaN    NaN      F     F     T      T      mobile   \n",
       "288    NaN    NaN      F     F     F      F      mobile   \n",
       "\n",
       "                    DeviceInfo  \n",
       "203                        NaN  \n",
       "240  Redmi Note 4 Build/MMB29M  \n",
       "243  Redmi Note 4 Build/MMB29M  \n",
       "245  Redmi Note 4 Build/MMB29M  \n",
       "288                        NaN  \n",
       "\n",
       "[5 rows x 434 columns]"
      ]
     },
     "execution_count": 20,
     "metadata": {},
     "output_type": "execute_result"
    }
   ],
   "source": [
    "tns_fraud_train_df = train[train.isFraud==1]\n",
    "tns_fraud_train_df.head()"
   ]
  },
  {
   "cell_type": "code",
   "execution_count": 21,
   "metadata": {},
   "outputs": [
    {
     "data": {
      "text/plain": [
       "<matplotlib.axes._subplots.AxesSubplot at 0x16f174a8>"
      ]
     },
     "execution_count": 21,
     "metadata": {},
     "output_type": "execute_result"
    },
    {
     "data": {
      "image/png": "[encoded data removed]",
      "text/plain": [
       "<matplotlib.figure.Figure at 0x17235748>"
      ]
     },
     "metadata": {},
     "output_type": "display_data"
    }
   ],
   "source": [
    "sns.set(style=\"darkgrid\")\n",
    "sns.countplot(x='ProductCD',data=train)"
   ]
  },
  {
   "cell_type": "code",
   "execution_count": 22,
   "metadata": {},
   "outputs": [
    {
     "data": {
      "text/plain": [
       "<matplotlib.axes._subplots.AxesSubplot at 0x172bd8d0>"
      ]
     },
     "execution_count": 22,
     "metadata": {},
     "output_type": "execute_result"
    },
    {
     "data": {
      "image/png": "[encoded data removed]",
      "text/plain": [
       "<matplotlib.figure.Figure at 0x16f1c240>"
      ]
     },
     "metadata": {},
     "output_type": "display_data"
    }
   ],
   "source": [
    "#Below plot shows that the visa cards has highest transactions\n",
    "sns.countplot(x='card4',data=train)\n"
   ]
  },
  {
   "cell_type": "code",
   "execution_count": 23,
   "metadata": {
    "scrolled": false
   },
   "outputs": [
    {
     "data": {
      "text/plain": [
       "<matplotlib.axes._subplots.AxesSubplot at 0x174b1e48>"
      ]
     },
     "execution_count": 23,
     "metadata": {},
     "output_type": "execute_result"
    },
    {
     "data": {
      "image/png": "[encoded data removed]",
      "text/plain": [
       "<matplotlib.figure.Figure at 0x15b17c88>"
      ]
     },
     "metadata": {},
     "output_type": "display_data"
    }
   ],
   "source": [
    "sns.countplot(x='card4',data=tns_fraud_train_df)"
   ]
  },
  {
   "cell_type": "code",
   "execution_count": 24,
   "metadata": {},
   "outputs": [
    {
     "data": {
      "text/plain": [
       "<matplotlib.axes._subplots.AxesSubplot at 0x1712de10>"
      ]
     },
     "execution_count": 24,
     "metadata": {},
     "output_type": "execute_result"
    },
    {
     "data": {
      "image/png": "[encoded data removed]",
      "text/plain": [
       "<matplotlib.figure.Figure at 0x167d32e8>"
      ]
     },
     "metadata": {},
     "output_type": "display_data"
    }
   ],
   "source": [
    "sns.countplot(x='card6',data=tns_fraud_train_df)"
   ]
  },
  {
   "cell_type": "code",
   "execution_count": 25,
   "metadata": {},
   "outputs": [
    {
     "data": {
      "text/plain": [
       "<matplotlib.axes._subplots.AxesSubplot at 0x16eefa90>"
      ]
     },
     "execution_count": 25,
     "metadata": {},
     "output_type": "execute_result"
    },
    {
     "data": {
      "image/png": "[encoded data removed]",
      "text/plain": [
       "<matplotlib.figure.Figure at 0x16788ef0>"
      ]
     },
     "metadata": {},
     "output_type": "display_data"
    }
   ],
   "source": [
    "sns.countplot(x='card6',data=train)"
   ]
  },
  {
   "cell_type": "code",
   "execution_count": 26,
   "metadata": {},
   "outputs": [
    {
     "data": {
      "text/plain": [
       "5"
      ]
     },
     "execution_count": 26,
     "metadata": {},
     "output_type": "execute_result"
    }
   ],
   "source": [
    "len(train.card6.unique())"
   ]
  },
  {
   "cell_type": "code",
   "execution_count": 27,
   "metadata": {},
   "outputs": [
    {
     "data": {
      "text/plain": [
       "array(['credit', 'debit', nan, 'debit or credit', 'charge card'],\n",
       "      dtype=object)"
      ]
     },
     "execution_count": 27,
     "metadata": {},
     "output_type": "execute_result"
    }
   ],
   "source": [
    "train.card6.unique()"
   ]
  },
  {
   "cell_type": "code",
   "execution_count": 28,
   "metadata": {},
   "outputs": [
    {
     "data": {
      "text/plain": [
       "<matplotlib.axes._subplots.AxesSubplot at 0x171b1e10>"
      ]
     },
     "execution_count": 28,
     "metadata": {},
     "output_type": "execute_result"
    },
    {
     "data": {
      "image/png": "[encoded data removed]",
      "text/plain": [
       "<matplotlib.figure.Figure at 0x171de2e8>"
      ]
     },
     "metadata": {},
     "output_type": "display_data"
    }
   ],
   "source": [
    "sns.countplot(x='DeviceType',data=train)"
   ]
  },
  {
   "cell_type": "code",
   "execution_count": 29,
   "metadata": {},
   "outputs": [
    {
     "data": {
      "text/plain": [
       "1787"
      ]
     },
     "execution_count": 29,
     "metadata": {},
     "output_type": "execute_result"
    }
   ],
   "source": [
    "len(train.DeviceInfo.unique())"
   ]
  },
  {
   "cell_type": "code",
   "execution_count": 30,
   "metadata": {},
   "outputs": [
    {
     "data": {
      "text/plain": [
       "Index(['TransactionID', 'isFraud', 'TransactionDT', 'TransactionAmt',\n",
       "       'ProductCD', 'card1', 'card2', 'card3', 'card4', 'card5',\n",
       "       ...\n",
       "       'id_31', 'id_32', 'id_33', 'id_34', 'id_35', 'id_36', 'id_37', 'id_38',\n",
       "       'DeviceType', 'DeviceInfo'],\n",
       "      dtype='object', length=434)"
      ]
     },
     "execution_count": 30,
     "metadata": {},
     "output_type": "execute_result"
    }
   ],
   "source": [
    "train.columns"
   ]
  },
  {
   "cell_type": "markdown",
   "metadata": {},
   "source": [
    "## Transformations"
   ]
  },
  {
   "cell_type": "code",
   "execution_count": 31,
   "metadata": {},
   "outputs": [
    {
     "name": "stdout",
     "output_type": "stream",
     "text": [
      "There are 414 columns in train dataset with missing values.\n"
     ]
    }
   ],
   "source": [
    "print(f'There are {train.isnull().any().sum()} columns in train dataset with missing values.')\n"
   ]
  },
  {
   "cell_type": "code",
   "execution_count": 32,
   "metadata": {
    "scrolled": true
   },
   "outputs": [],
   "source": [
    "train[['P_emaildomain_1', 'P_emaildomain_2', 'P_emaildomain_3']] =  train['P_emaildomain'].str.split('.', expand=True)\n",
    "\n",
    "train[['R_emaildomain_1', 'R_emaildomain_2', 'R_emaildomain_3']] = train['R_emaildomain'].str.split('.', expand=True)"
   ]
  },
  {
   "cell_type": "code",
   "execution_count": 33,
   "metadata": {},
   "outputs": [],
   "source": [
    "test[['P_emaildomain_1', 'P_emaildomain_2', 'P_emaildomain_3']] = test['P_emaildomain'].str.split('.', expand=True)\n",
    "test[['R_emaildomain_1', 'R_emaildomain_2', 'R_emaildomain_3']] = test['R_emaildomain'].str.split('.', expand=True)"
   ]
  },
  {
   "cell_type": "code",
   "execution_count": 34,
   "metadata": {},
   "outputs": [],
   "source": [
    "many_null_cols = [col for col in train.columns if train[col].isnull().sum() / train.shape[0] > 0.9]\n",
    "many_null_cols_test = [col for col in test.columns if test[col].isnull().sum() / test.shape[0] > 0.9]"
   ]
  },
  {
   "cell_type": "code",
   "execution_count": 35,
   "metadata": {},
   "outputs": [
    {
     "data": {
      "text/plain": [
       "['dist2',\n",
       " 'D7',\n",
       " 'id_07',\n",
       " 'id_08',\n",
       " 'id_18',\n",
       " 'id_21',\n",
       " 'id_22',\n",
       " 'id_23',\n",
       " 'id_24',\n",
       " 'id_25',\n",
       " 'id_26',\n",
       " 'id_27',\n",
       " 'P_emaildomain_3',\n",
       " 'R_emaildomain_3']"
      ]
     },
     "execution_count": 35,
     "metadata": {},
     "output_type": "execute_result"
    }
   ],
   "source": [
    "many_null_cols"
   ]
  },
  {
   "cell_type": "code",
   "execution_count": 36,
   "metadata": {},
   "outputs": [
    {
     "data": {
      "text/plain": [
       "['dist2',\n",
       " 'id_07',\n",
       " 'id_08',\n",
       " 'id_21',\n",
       " 'id_22',\n",
       " 'id_23',\n",
       " 'id_24',\n",
       " 'id_25',\n",
       " 'id_26',\n",
       " 'id_27',\n",
       " 'P_emaildomain_3',\n",
       " 'R_emaildomain_3']"
      ]
     },
     "execution_count": 36,
     "metadata": {},
     "output_type": "execute_result"
    }
   ],
   "source": [
    "many_null_cols_test"
   ]
  },
  {
   "cell_type": "code",
   "execution_count": 37,
   "metadata": {},
   "outputs": [],
   "source": [
    "big_top_value_cols = [col for col in train.columns if train[col].value_counts(dropna=False, normalize=True).values[0] > 0.9]\n",
    "big_top_value_cols_test = [col for col in test.columns if test[col].value_counts(dropna=False, normalize=True).values[0] > 0.9]"
   ]
  },
  {
   "cell_type": "code",
   "execution_count": 38,
   "metadata": {},
   "outputs": [
    {
     "data": {
      "text/plain": [
       "True"
      ]
     },
     "execution_count": 38,
     "metadata": {},
     "output_type": "execute_result"
    }
   ],
   "source": [
    "train['dist2'].value_counts(dropna=False, normalize=True).values[0] > 0.9"
   ]
  },
  {
   "cell_type": "code",
   "execution_count": 39,
   "metadata": {},
   "outputs": [
    {
     "data": {
      "text/plain": [
       "False"
      ]
     },
     "execution_count": 39,
     "metadata": {},
     "output_type": "execute_result"
    }
   ],
   "source": [
    "one_value_cols = [col for col in train.columns if train[col].nunique() <= 1]\n",
    "one_value_cols_test = [col for col in test.columns if test[col].nunique() <= 1]\n",
    "one_value_cols == one_value_cols_test"
   ]
  },
  {
   "cell_type": "code",
   "execution_count": 40,
   "metadata": {},
   "outputs": [
    {
     "data": {
      "text/plain": [
       "['V107']"
      ]
     },
     "execution_count": 40,
     "metadata": {},
     "output_type": "execute_result"
    }
   ],
   "source": [
    "one_value_cols_test"
   ]
  },
  {
   "cell_type": "code",
   "execution_count": 41,
   "metadata": {},
   "outputs": [
    {
     "data": {
      "text/plain": [
       "84"
      ]
     },
     "execution_count": 41,
     "metadata": {},
     "output_type": "execute_result"
    }
   ],
   "source": [
    "cols_to_drop = list(set(many_null_cols + many_null_cols_test + big_top_value_cols + big_top_value_cols_test + one_value_cols+ one_value_cols_test))\n",
    "cols_to_drop.remove('isFraud')\n",
    "len(cols_to_drop)"
   ]
  },
  {
   "cell_type": "code",
   "execution_count": 42,
   "metadata": {},
   "outputs": [],
   "source": [
    "train.drop(cols_to_drop, axis=1,inplace=True)\n",
    "test.drop(cols_to_drop, axis=1,inplace=True)"
   ]
  },
  {
   "cell_type": "code",
   "execution_count": 43,
   "metadata": {},
   "outputs": [],
   "source": [
    "cat_cols = ['id_12', 'id_13', 'id_14', 'id_15', 'id_16', 'id_17', 'id_18', 'id_19', 'id_20', 'id_21', 'id_22', 'id_23', 'id_24', 'id_25', 'id_26', 'id_27', 'id_28', 'id_29',\n",
    "            'id_30', 'id_31', 'id_32', 'id_33', 'id_34', 'id_35', 'id_36', 'id_37', 'id_38', 'DeviceType', 'DeviceInfo', 'ProductCD', 'card4', 'card6', 'M4','P_emaildomain',\n",
    "            'R_emaildomain', 'card1', 'card2', 'card3',  'card5', 'addr1', 'addr2', 'M1', 'M2', 'M3', 'M5', 'M6', 'M7', 'M8', 'M9',\n",
    "            'P_emaildomain_1', 'P_emaildomain_2', 'P_emaildomain_3', 'R_emaildomain_1', 'R_emaildomain_2', 'R_emaildomain_3']"
   ]
  },
  {
   "cell_type": "code",
   "execution_count": 44,
   "metadata": {},
   "outputs": [
    {
     "data": {
      "text/plain": [
       "333"
      ]
     },
     "execution_count": 44,
     "metadata": {},
     "output_type": "execute_result"
    }
   ],
   "source": [
    "len(train.addr1.unique())"
   ]
  },
  {
   "cell_type": "code",
   "execution_count": 45,
   "metadata": {},
   "outputs": [],
   "source": [
    "for col in cat_cols:\n",
    "    if col in train.columns:\n",
    "        le = LabelEncoder()\n",
    "        le.fit(list(train[col].astype(str).values) + list(test[col].astype(str).values))\n",
    "        train[col] = le.transform(list(train[col].astype(str).values))\n",
    "        test[col] = le.transform(list(test[col].astype(str).values))   "
   ]
  },
  {
   "cell_type": "code",
   "execution_count": 46,
   "metadata": {},
   "outputs": [
    {
     "data": {
      "text/plain": [
       "355"
      ]
     },
     "execution_count": 46,
     "metadata": {},
     "output_type": "execute_result"
    }
   ],
   "source": [
    "len(train.columns)\n",
    "len(test.columns)"
   ]
  },
  {
   "cell_type": "code",
   "execution_count": 47,
   "metadata": {},
   "outputs": [
    {
     "data": {
      "text/html": [
       "<div>\n",
       "<style scoped>\n",
       "    .dataframe tbody tr th:only-of-type {\n",
       "        vertical-align: middle;\n",
       "    }\n",
       "\n",
       "    .dataframe tbody tr th {\n",
       "        vertical-align: top;\n",
       "    }\n",
       "\n",
       "    .dataframe thead th {\n",
       "        text-align: right;\n",
       "    }\n",
       "</style>\n",
       "<table border=\"1\" class=\"dataframe\">\n",
       "  <thead>\n",
       "    <tr style=\"text-align: right;\">\n",
       "      <th></th>\n",
       "      <th>TransactionID</th>\n",
       "      <th>isFraud</th>\n",
       "      <th>TransactionDT</th>\n",
       "      <th>TransactionAmt</th>\n",
       "      <th>ProductCD</th>\n",
       "      <th>card1</th>\n",
       "      <th>card2</th>\n",
       "      <th>card3</th>\n",
       "      <th>card4</th>\n",
       "      <th>card5</th>\n",
       "      <th>...</th>\n",
       "      <th>id_35</th>\n",
       "      <th>id_36</th>\n",
       "      <th>id_37</th>\n",
       "      <th>id_38</th>\n",
       "      <th>DeviceType</th>\n",
       "      <th>DeviceInfo</th>\n",
       "      <th>P_emaildomain_1</th>\n",
       "      <th>P_emaildomain_2</th>\n",
       "      <th>R_emaildomain_1</th>\n",
       "      <th>R_emaildomain_2</th>\n",
       "    </tr>\n",
       "  </thead>\n",
       "  <tbody>\n",
       "    <tr>\n",
       "      <td>0</td>\n",
       "      <td>2987000</td>\n",
       "      <td>0</td>\n",
       "      <td>86400</td>\n",
       "      <td>68.5</td>\n",
       "      <td>4</td>\n",
       "      <td>4248</td>\n",
       "      <td>501</td>\n",
       "      <td>50</td>\n",
       "      <td>1</td>\n",
       "      <td>42</td>\n",
       "      <td>...</td>\n",
       "      <td>2</td>\n",
       "      <td>2</td>\n",
       "      <td>2</td>\n",
       "      <td>2</td>\n",
       "      <td>2</td>\n",
       "      <td>2740</td>\n",
       "      <td>25</td>\n",
       "      <td>7</td>\n",
       "      <td>25</td>\n",
       "      <td>7</td>\n",
       "    </tr>\n",
       "    <tr>\n",
       "      <td>1</td>\n",
       "      <td>2987001</td>\n",
       "      <td>0</td>\n",
       "      <td>86401</td>\n",
       "      <td>29.0</td>\n",
       "      <td>4</td>\n",
       "      <td>9979</td>\n",
       "      <td>304</td>\n",
       "      <td>50</td>\n",
       "      <td>2</td>\n",
       "      <td>2</td>\n",
       "      <td>...</td>\n",
       "      <td>2</td>\n",
       "      <td>2</td>\n",
       "      <td>2</td>\n",
       "      <td>2</td>\n",
       "      <td>2</td>\n",
       "      <td>2740</td>\n",
       "      <td>15</td>\n",
       "      <td>2</td>\n",
       "      <td>25</td>\n",
       "      <td>7</td>\n",
       "    </tr>\n",
       "    <tr>\n",
       "      <td>2</td>\n",
       "      <td>2987002</td>\n",
       "      <td>0</td>\n",
       "      <td>86469</td>\n",
       "      <td>59.0</td>\n",
       "      <td>4</td>\n",
       "      <td>11850</td>\n",
       "      <td>390</td>\n",
       "      <td>50</td>\n",
       "      <td>4</td>\n",
       "      <td>66</td>\n",
       "      <td>...</td>\n",
       "      <td>2</td>\n",
       "      <td>2</td>\n",
       "      <td>2</td>\n",
       "      <td>2</td>\n",
       "      <td>2</td>\n",
       "      <td>2740</td>\n",
       "      <td>28</td>\n",
       "      <td>2</td>\n",
       "      <td>25</td>\n",
       "      <td>7</td>\n",
       "    </tr>\n",
       "    <tr>\n",
       "      <td>3</td>\n",
       "      <td>2987003</td>\n",
       "      <td>0</td>\n",
       "      <td>86499</td>\n",
       "      <td>50.0</td>\n",
       "      <td>4</td>\n",
       "      <td>8796</td>\n",
       "      <td>467</td>\n",
       "      <td>50</td>\n",
       "      <td>2</td>\n",
       "      <td>17</td>\n",
       "      <td>...</td>\n",
       "      <td>2</td>\n",
       "      <td>2</td>\n",
       "      <td>2</td>\n",
       "      <td>2</td>\n",
       "      <td>2</td>\n",
       "      <td>2740</td>\n",
       "      <td>44</td>\n",
       "      <td>2</td>\n",
       "      <td>25</td>\n",
       "      <td>7</td>\n",
       "    </tr>\n",
       "    <tr>\n",
       "      <td>4</td>\n",
       "      <td>2987004</td>\n",
       "      <td>0</td>\n",
       "      <td>86506</td>\n",
       "      <td>50.0</td>\n",
       "      <td>1</td>\n",
       "      <td>11687</td>\n",
       "      <td>414</td>\n",
       "      <td>50</td>\n",
       "      <td>2</td>\n",
       "      <td>2</td>\n",
       "      <td>...</td>\n",
       "      <td>1</td>\n",
       "      <td>0</td>\n",
       "      <td>1</td>\n",
       "      <td>1</td>\n",
       "      <td>1</td>\n",
       "      <td>1565</td>\n",
       "      <td>15</td>\n",
       "      <td>2</td>\n",
       "      <td>25</td>\n",
       "      <td>7</td>\n",
       "    </tr>\n",
       "  </tbody>\n",
       "</table>\n",
       "<p>5 rows × 356 columns</p>\n",
       "</div>"
      ],
      "text/plain": [
       "   TransactionID  isFraud  TransactionDT  TransactionAmt  ProductCD  card1  \\\n",
       "0        2987000        0          86400            68.5          4   4248   \n",
       "1        2987001        0          86401            29.0          4   9979   \n",
       "2        2987002        0          86469            59.0          4  11850   \n",
       "3        2987003        0          86499            50.0          4   8796   \n",
       "4        2987004        0          86506            50.0          1  11687   \n",
       "\n",
       "   card2  card3  card4  card5  ...  id_35  id_36  id_37  id_38  DeviceType  \\\n",
       "0    501     50      1     42  ...      2      2      2      2           2   \n",
       "1    304     50      2      2  ...      2      2      2      2           2   \n",
       "2    390     50      4     66  ...      2      2      2      2           2   \n",
       "3    467     50      2     17  ...      2      2      2      2           2   \n",
       "4    414     50      2      2  ...      1      0      1      1           1   \n",
       "\n",
       "   DeviceInfo  P_emaildomain_1  P_emaildomain_2  R_emaildomain_1  \\\n",
       "0        2740               25                7               25   \n",
       "1        2740               15                2               25   \n",
       "2        2740               28                2               25   \n",
       "3        2740               44                2               25   \n",
       "4        1565               15                2               25   \n",
       "\n",
       "   R_emaildomain_2  \n",
       "0                7  \n",
       "1                7  \n",
       "2                7  \n",
       "3                7  \n",
       "4                7  \n",
       "\n",
       "[5 rows x 356 columns]"
      ]
     },
     "execution_count": 47,
     "metadata": {},
     "output_type": "execute_result"
    }
   ],
   "source": [
    "train.head()"
   ]
  },
  {
   "cell_type": "code",
   "execution_count": 48,
   "metadata": {},
   "outputs": [],
   "source": [
    "X = train.sort_values('TransactionDT').drop(['isFraud', 'TransactionDT', 'TransactionID'], axis=1)\n",
    "y = train.sort_values('TransactionDT')['isFraud']\n",
    "#X_test = test.sort_values('TransactionDT').drop(['TransactionDT', 'TransactionID'], axis=1)\n",
    "X_test = test.drop(['TransactionDT', 'TransactionID'], axis=1)\n",
    "#del train\n",
    "#test = test[['TransactionID']]"
   ]
  },
  {
   "cell_type": "code",
   "execution_count": 49,
   "metadata": {},
   "outputs": [],
   "source": [
    "# by https://www.kaggle.com/dimartinot\n",
    "def clean_inf_nan(df):\n",
    "    return df.replace([np.inf, -np.inf], np.nan)   \n",
    "\n",
    "# Cleaning infinite values to NaN\n",
    "X = clean_inf_nan(X)\n",
    "X_test = clean_inf_nan(X_test )"
   ]
  },
  {
   "cell_type": "code",
   "execution_count": 50,
   "metadata": {},
   "outputs": [
    {
     "data": {
      "text/plain": [
       "138"
      ]
     },
     "execution_count": 50,
     "metadata": {},
     "output_type": "execute_result"
    }
   ],
   "source": [
    "gc.collect()"
   ]
  },
  {
   "cell_type": "code",
   "execution_count": 51,
   "metadata": {},
   "outputs": [],
   "source": [
    "#del train"
   ]
  },
  {
   "cell_type": "code",
   "execution_count": 107,
   "metadata": {},
   "outputs": [
    {
     "data": {
      "text/plain": [
       "XGBClassifier(base_score=0.5, booster='gbtree', colsample_bylevel=1,\n",
       "       colsample_bynode=1, colsample_bytree=1, gamma=0, learning_rate=0.1,\n",
       "       max_delta_step=0, max_depth=3, min_child_weight=1, missing=None,\n",
       "       n_estimators=100, n_jobs=1, nthread=None,\n",
       "       objective='binary:logistic', random_state=0, reg_alpha=0,\n",
       "       reg_lambda=1, scale_pos_weight=1, seed=None, silent=None,\n",
       "       subsample=1, verbosity=1)"
      ]
     },
     "execution_count": 107,
     "metadata": {},
     "output_type": "execute_result"
    }
   ],
   "source": [
    "#Simple xgbclassifier with default parameters\n",
    "model = XGBClassifier()\n",
    "model.fit(X, y)"
   ]
  },
  {
   "cell_type": "code",
   "execution_count": 109,
   "metadata": {},
   "outputs": [],
   "source": [
    "y_proba = model.predict_proba(X_test)"
   ]
  },
  {
   "cell_type": "code",
   "execution_count": 110,
   "metadata": {},
   "outputs": [],
   "source": [
    "sub = test[['TransactionID']]"
   ]
  },
  {
   "cell_type": "code",
   "execution_count": 120,
   "metadata": {},
   "outputs": [
    {
     "data": {
      "text/plain": [
       "array([0.9936508 , 0.9879607 , 0.9811067 , ..., 0.9870636 , 0.98451936,\n",
       "       0.97595614], dtype=float32)"
      ]
     },
     "execution_count": 120,
     "metadata": {},
     "output_type": "execute_result"
    }
   ],
   "source": [
    "y_proba[:,0]"
   ]
  },
  {
   "cell_type": "code",
   "execution_count": 121,
   "metadata": {},
   "outputs": [],
   "source": [
    "sub['isFraud'] = pd.Series(y_proba[:,0])"
   ]
  },
  {
   "cell_type": "code",
   "execution_count": 130,
   "metadata": {},
   "outputs": [],
   "source": [
    "sub.to_csv(path_or_buf='./data/submission.csv',sep=',',index=False,header=['TransactionID','isFraud'])"
   ]
  },
  {
   "cell_type": "code",
   "execution_count": 131,
   "metadata": {
    "scrolled": false
   },
   "outputs": [
    {
     "name": "stdout",
     "output_type": "stream",
     "text": [
      "Successfully submitted to IEEE-CIS Fraud Detection\n"
     ]
    },
    {
     "name": "stderr",
     "output_type": "stream",
     "text": [
      "\n",
      "  0%|          | 0.00/9.35M [00:00<?, ?B/s]\n",
      "  3%|3         | 288k/9.35M [00:00<00:03, 2.95MB/s]\n",
      "  7%|6         | 640k/9.35M [00:00<00:02, 3.08MB/s]\n",
      " 12%|#1        | 1.10M/9.35M [00:00<00:02, 3.48MB/s]\n",
      " 21%|##        | 1.92M/9.35M [00:00<00:01, 4.23MB/s]\n",
      " 29%|##9       | 2.73M/9.35M [00:00<00:01, 4.97MB/s]\n",
      " 38%|###7      | 3.54M/9.35M [00:00<00:01, 5.65MB/s]\n",
      " 47%|####6     | 4.35M/9.35M [00:00<00:00, 6.27MB/s]\n",
      " 55%|#####5    | 5.18M/9.35M [00:00<00:00, 6.83MB/s]\n",
      " 65%|######4   | 6.03M/9.35M [00:00<00:00, 7.33MB/s]\n",
      " 73%|#######3  | 6.83M/9.35M [00:01<00:00, 7.61MB/s]\n",
      " 82%|########1 | 7.66M/9.35M [00:01<00:00, 7.88MB/s]\n",
      " 91%|######### | 8.47M/9.35M [00:01<00:00, 8.06MB/s]\n",
      "100%|#########9| 9.30M/9.35M [00:01<00:00, 8.24MB/s]\n",
      "100%|##########| 9.35M/9.35M [00:01<00:00, 5.83MB/s]\n"
     ]
    }
   ],
   "source": [
    "!kaggle competitions submit -c ieee-fraud-detection -f submission.csv -m \"first submit\""
   ]
  },
  {
   "cell_type": "code",
   "execution_count": 59,
   "metadata": {},
   "outputs": [],
   "source": [
    "\n",
    "\n",
    "joblib.dump(model, 'trained_model.pkl')\n",
    "\n",
    "\n",
    "model = joblib.load('trained_model.sav')\n",
    "\n",
    "\n",
    "model.predict_proba(X_test.iloc[:1])\n",
    "\n",
    "X_test.dtypes\n",
    "\n",
    "pd.read_json(X_test.iloc[:1].to_json())"
   ]
  },
  {
   "cell_type": "code",
   "execution_count": 57,
   "metadata": {
    "scrolled": true
   },
   "outputs": [
    {
     "data": {
      "text/plain": [
       "'[{\"TransactionAmt\":31.95,\"ProductCD\":4,\"card1\":442,\"card2\":11,\"card3\":50,\"card4\":4,\"card5\":126,\"card6\":2,\"addr1\":70,\"addr2\":80,\"dist1\":1.0,\"P_emaildomain\":16,\"R_emaildomain\":32,\"C1\":6.0,\"C2\":6.0,\"C4\":0.0,\"C5\":3.0,\"C6\":4.0,\"C7\":0.0,\"C8\":0.0,\"C9\":6.0,\"C10\":0.0,\"C11\":5.0,\"C12\":1.0,\"C13\":115.0,\"C14\":6.0,\"D1\":419.0,\"D2\":419.0,\"D3\":27.0,\"D4\":398.0,\"D5\":27.0,\"D6\":null,\"D8\":null,\"D9\":null,\"D10\":418.0,\"D11\":203.0,\"D12\":null,\"D13\":null,\"D14\":null,\"D15\":409.0,\"M1\":1,\"M2\":1,\"M3\":0,\"M4\":3,\"M5\":2,\"M6\":0,\"M7\":1,\"M8\":1,\"M9\":1,\"V1\":1.0,\"V2\":1.0,\"V3\":1.0,\"V4\":1.0,\"V5\":1.0,\"V6\":1.0,\"V7\":1.0,\"V8\":1.0,\"V9\":1.0,\"V10\":1.0,\"V11\":1.0,\"V12\":0.0,\"V13\":0.0,\"V15\":0.0,\"V16\":0.0,\"V17\":0.0,\"V18\":0.0,\"V19\":0.0,\"V20\":0.0,\"V21\":0.0,\"V22\":0.0,\"V29\":0.0,\"V30\":0.0,\"V31\":0.0,\"V32\":0.0,\"V33\":0.0,\"V34\":0.0,\"V35\":1.0,\"V36\":1.0,\"V37\":1.0,\"V38\":1.0,\"V39\":0.0,\"V40\":0.0,\"V41\":1.0,\"V42\":0.0,\"V43\":0.0,\"V44\":1.0,\"V45\":1.0,\"V46\":1.0,\"V47\":1.0,\"V48\":1.0,\"V49\":1.0,\"V50\":0.0,\"V51\":0.0,\"V52\":0.0,\"V53\":0.0,\"V54\":0.0,\"V56\":1.0,\"V57\":0.0,\"V58\":0.0,\"V59\":0.0,\"V60\":0.0,\"V61\":0.0,\"V62\":0.0,\"V63\":0.0,\"V64\":0.0,\"V69\":0.0,\"V70\":0.0,\"V71\":0.0,\"V72\":0.0,\"V73\":0.0,\"V74\":0.0,\"V75\":0.0,\"V76\":0.0,\"V78\":1.0,\"V79\":0.0,\"V80\":0.0,\"V81\":0.0,\"V82\":1.0,\"V83\":1.0,\"V84\":0.0,\"V85\":0.0,\"V87\":1.0,\"V90\":1.0,\"V91\":1.0,\"V92\":0.0,\"V93\":0.0,\"V94\":0.0,\"V95\":0.0,\"V96\":1.0,\"V97\":0.0,\"V99\":1.0,\"V100\":0.0,\"V126\":0.0,\"V127\":47.9500007629,\"V128\":0.0,\"V130\":47.9500007629,\"V131\":0.0,\"V138\":null,\"V139\":null,\"V140\":null,\"V141\":null,\"V142\":null,\"V143\":null,\"V144\":null,\"V145\":null,\"V146\":null,\"V147\":null,\"V148\":null,\"V149\":null,\"V150\":null,\"V151\":null,\"V152\":null,\"V153\":null,\"V154\":null,\"V155\":null,\"V156\":null,\"V157\":null,\"V158\":null,\"V159\":null,\"V160\":null,\"V161\":null,\"V162\":null,\"V163\":null,\"V164\":null,\"V165\":null,\"V166\":null,\"V167\":null,\"V168\":null,\"V169\":null,\"V170\":null,\"V171\":null,\"V172\":null,\"V173\":null,\"V174\":null,\"V175\":null,\"V176\":null,\"V177\":null,\"V178\":null,\"V179\":null,\"V180\":null,\"V181\":null,\"V182\":null,\"V183\":null,\"V184\":null,\"V185\":null,\"V186\":null,\"V187\":null,\"V188\":null,\"V189\":null,\"V190\":null,\"V191\":null,\"V192\":null,\"V193\":null,\"V194\":null,\"V195\":null,\"V196\":null,\"V197\":null,\"V198\":null,\"V199\":null,\"V200\":null,\"V201\":null,\"V202\":null,\"V203\":null,\"V204\":null,\"V205\":null,\"V206\":null,\"V207\":null,\"V208\":null,\"V209\":null,\"V210\":null,\"V211\":null,\"V212\":null,\"V213\":null,\"V214\":null,\"V215\":null,\"V216\":null,\"V217\":null,\"V218\":null,\"V219\":null,\"V220\":null,\"V221\":null,\"V222\":null,\"V223\":null,\"V224\":null,\"V225\":null,\"V226\":null,\"V227\":null,\"V228\":null,\"V229\":null,\"V230\":null,\"V231\":null,\"V232\":null,\"V233\":null,\"V234\":null,\"V235\":null,\"V236\":null,\"V237\":null,\"V238\":null,\"V239\":null,\"V240\":null,\"V241\":null,\"V242\":null,\"V243\":null,\"V244\":null,\"V245\":null,\"V246\":null,\"V247\":null,\"V248\":null,\"V249\":null,\"V250\":null,\"V251\":null,\"V252\":null,\"V253\":null,\"V254\":null,\"V255\":null,\"V256\":null,\"V257\":null,\"V258\":null,\"V259\":null,\"V260\":null,\"V261\":null,\"V262\":null,\"V263\":null,\"V264\":null,\"V265\":null,\"V266\":null,\"V267\":null,\"V268\":null,\"V269\":null,\"V270\":null,\"V271\":null,\"V272\":null,\"V273\":null,\"V274\":null,\"V275\":null,\"V276\":null,\"V277\":null,\"V278\":null,\"V279\":0.0,\"V280\":0.0,\"V282\":0.0,\"V283\":0.0,\"V285\":1.0,\"V287\":0.0,\"V288\":0.0,\"V289\":0.0,\"V291\":1.0,\"V292\":1.0,\"V294\":0.0,\"V302\":0.0,\"V303\":0.0,\"V304\":0.0,\"V306\":0.0,\"V307\":47.9500007629,\"V308\":0.0,\"V310\":47.9500007629,\"V312\":0.0,\"V313\":0.0,\"V314\":0.0,\"V315\":0.0,\"V317\":0.0,\"V322\":null,\"V323\":null,\"V324\":null,\"V325\":null,\"V326\":null,\"V327\":null,\"V328\":null,\"V329\":null,\"V330\":null,\"V331\":null,\"V332\":null,\"V333\":null,\"V334\":null,\"V335\":null,\"V336\":null,\"V337\":null,\"V338\":null,\"V339\":null,\"id_01\":null,\"id_02\":null,\"id_03\":null,\"id_04\":null,\"id_05\":null,\"id_06\":null,\"id_09\":null,\"id_10\":null,\"id_11\":null,\"id_12\":2,\"id_13\":55,\"id_14\":28,\"id_15\":3,\"id_16\":2,\"id_17\":127,\"id_19\":568,\"id_20\":547,\"id_28\":2,\"id_29\":2,\"id_30\":86,\"id_31\":136,\"id_32\":6,\"id_33\":461,\"id_34\":4,\"id_35\":2,\"id_36\":2,\"id_37\":2,\"id_38\":2,\"DeviceType\":2,\"DeviceInfo\":2740,\"P_emaildomain_1\":15,\"P_emaildomain_2\":2,\"R_emaildomain_1\":25,\"R_emaildomain_2\":7}]'"
      ]
     },
     "execution_count": 57,
     "metadata": {},
     "output_type": "execute_result"
    }
   ],
   "source": [
    "X_test.iloc[:1].to_json(orient='records')"
   ]
  }
 ],
 "metadata": {
  "kernelspec": {
   "display_name": "Python 3",
   "language": "python",
   "name": "python3"
  },
  "language_info": {
   "codemirror_mode": {
    "name": "ipython",
    "version": 3
   },
   "file_extension": ".py",
   "mimetype": "text/x-python",
   "name": "python",
   "nbconvert_exporter": "python",
   "pygments_lexer": "ipython3",
   "version": "3.6.1"
  }
 },
 "nbformat": 4,
 "nbformat_minor": 2
}
